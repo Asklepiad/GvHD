{
 "cells": [
  {
   "cell_type": "code",
   "execution_count": 1,
   "id": "884f30e1",
   "metadata": {},
   "outputs": [
    {
     "name": "stdout",
     "output_type": "stream",
     "text": [
      "Enabling notebook extension jupyter-js-widgets/extension...\r\n",
      "      - Validating: \u001b[32mOK\u001b[0m\r\n"
     ]
    }
   ],
   "source": [
    "#!pip install ipywidgets\n",
    "#!pip3 install optuna\n",
    "!jupyter nbextension enable --py widgetsnbextension\n",
    "# Подружаем библиотеки\n",
    "import numpy as np\n",
    "import pandas as pd\n",
    "import matplotlib.pyplot as plt\n",
    "import seaborn as sns\n",
    "import sklearn\n",
    "import nafig\n",
    "import miceforest as mf\n",
    "import optuna\n",
    "import hyperopt\n",
    "from optuna.samplers import TPESampler\n",
    "from catboost.utils import eval_metric\n",
    "from catboost import CatBoostClassifier, Pool, metrics, cv\n",
    "from sklearn import tree\n",
    "from sklearn.ensemble import RandomForestClassifier\n",
    "from sklearn.tree import DecisionTreeClassifier, DecisionTreeRegressor\n",
    "from sklearn.model_selection import train_test_split, cross_val_score, GridSearchCV\n",
    "from matplotlib.colors import ListedColormap\n",
    "from sklearn.feature_selection import VarianceThreshold\n",
    "from sklearn.preprocessing import TargetEncoder, StandardScaler\n",
    "from boruta import BorutaPy\n",
    "from sklearn.experimental import enable_iterative_imputer\n",
    "from sklearn.impute import IterativeImputer\n",
    "from numpy.random import RandomState"
   ]
  },
  {
   "cell_type": "code",
   "execution_count": 2,
   "id": "b2632a1b",
   "metadata": {},
   "outputs": [],
   "source": [
    "# Читаем данные\n",
    "\n",
    "acute_treatment_data = pd.read_csv(\"./acute_t_dataset.csv\")\n",
    "chronic_treatment_data = pd.read_csv(\"./chronic_t_dataset.csv\")\n",
    "acute_disease_data = pd.read_csv(\"./acute_d_dataset.csv\")\n",
    "chronic_disease_data = pd.read_csv(\"./chronic_d_dataset.csv\")\n",
    "treatment_data = pd.read_csv(\"./t_dataset.csv\")\n",
    "disease_data = pd.read_csv(\"./d_dataset.csv\")"
   ]
  },
  {
   "cell_type": "markdown",
   "id": "42f71f16",
   "metadata": {},
   "source": [
    "# Работаем с острым датасетом по лечению"
   ]
  },
  {
   "cell_type": "markdown",
   "id": "77af8db1",
   "metadata": {},
   "source": [
    "### Предобрабатываем и убираем ненужные переменные"
   ]
  },
  {
   "cell_type": "code",
   "execution_count": 3,
   "id": "5caf0d6a",
   "metadata": {},
   "outputs": [
    {
     "ename": "AttributeError",
     "evalue": "module 'nafig' has no attribute 'na_text_barplot'",
     "output_type": "error",
     "traceback": [
      "\u001b[0;31m---------------------------------------------------------------------------\u001b[0m",
      "\u001b[0;31mAttributeError\u001b[0m                            Traceback (most recent call last)",
      "\u001b[0;32m<ipython-input-3-ae6d33614d19>\u001b[0m in \u001b[0;36m<cell line: 1>\u001b[0;34m()\u001b[0m\n\u001b[0;32m----> 1\u001b[0;31m \u001b[0mnafig\u001b[0m\u001b[0;34m.\u001b[0m\u001b[0mna_text_barplot\u001b[0m\u001b[0;34m(\u001b[0m\u001b[0macute_disease_data\u001b[0m\u001b[0;34m,\u001b[0m \u001b[0mline_height\u001b[0m\u001b[0;34m=\u001b[0m\u001b[0;36m1.5\u001b[0m\u001b[0;34m)\u001b[0m\u001b[0;34m\u001b[0m\u001b[0;34m\u001b[0m\u001b[0m\n\u001b[0m",
      "\u001b[0;31mAttributeError\u001b[0m: module 'nafig' has no attribute 'na_text_barplot'"
     ]
    }
   ],
   "source": [
    "nafig.na_text_barplot(acute_disease_data, line_height=1.5)"
   ]
  },
  {
   "cell_type": "code",
   "execution_count": 4,
   "id": "ee8cf531",
   "metadata": {},
   "outputs": [
    {
     "name": "stdout",
     "output_type": "stream",
     "text": [
      "<class 'pandas.core.frame.DataFrame'>\n",
      "RangeIndex: 240 entries, 0 to 239\n",
      "Data columns (total 51 columns):\n",
      " #   Column              Non-Null Count  Dtype  \n",
      "---  ------              --------------  -----  \n",
      " 0   SITE                240 non-null    int64  \n",
      " 1   SUBJID              240 non-null    int64  \n",
      " 2   BIRTHDTC            240 non-null    object \n",
      " 3   SEX                 240 non-null    object \n",
      " 4   PSOCN               240 non-null    object \n",
      " 5   PRSTDTC             239 non-null    object \n",
      " 6   PRSCHEM             240 non-null    object \n",
      " 7   TIMGDOSE            240 non-null    int64  \n",
      " 8   HATGDOSE            240 non-null    int64  \n",
      " 9   PRENDTC             149 non-null    object \n",
      " 10  TRNUM               240 non-null    int64  \n",
      " 11  TRTYPE              240 non-null    object \n",
      " 12  TRDTC               240 non-null    object \n",
      " 13  TRSOURCE            240 non-null    object \n",
      " 14  COND                240 non-null    object \n",
      " 15  CONDTYPE            240 non-null    object \n",
      " 16  ALIVE               240 non-null    object \n",
      " 17  LCDTC               240 non-null    object \n",
      " 18  RELAPYN             240 non-null    object \n",
      " 19  RELAPDTC            58 non-null     object \n",
      " 20  PTNA                240 non-null    object \n",
      " 21  GVHDDTC             240 non-null    object \n",
      " 22  GVHDAGE             240 non-null    int64  \n",
      " 23  GVHDMETH            240 non-null    object \n",
      " 24  REFSTYN             238 non-null    object \n",
      " 25  REFSTDTC            41 non-null     object \n",
      " 26  REFSTLOT            41 non-null     float64\n",
      " 27  TRIND               240 non-null    object \n",
      " 28  AGVHDOCC            240 non-null    object \n",
      " 29  AGVHDGR             240 non-null    int64  \n",
      " 30  acute_Skin          240 non-null    int64  \n",
      " 31  acute_Liver         240 non-null    int64  \n",
      " 32  acute_UGT           240 non-null    int64  \n",
      " 33  acute_LGT           240 non-null    int64  \n",
      " 34  CGVHDOCC            240 non-null    object \n",
      " 35  PTSTAT              0 non-null      float64\n",
      " 36  SEVTYPE             0 non-null      float64\n",
      " 37  SEVGRADE            0 non-null      float64\n",
      " 38  chronic_Skin_perc   0 non-null      float64\n",
      " 39  chronic_Skin_scl    0 non-null      float64\n",
      " 40  chronic_oral        0 non-null      float64\n",
      " 41  chronic_Eyes        0 non-null      float64\n",
      " 42  chronic_GT          0 non-null      float64\n",
      " 43  chronic_Liver       0 non-null      float64\n",
      " 44  chronic_Lungs       0 non-null      float64\n",
      " 45  chronic_Lungs_func  0 non-null      float64\n",
      " 46  chronic_Joints      0 non-null      float64\n",
      " 47  chronic_Sex         0 non-null      float64\n",
      " 48  TDINTER             240 non-null    int64  \n",
      " 49  TPINTER             239 non-null    float64\n",
      " 50  PRINTER             148 non-null    float64\n",
      "dtypes: float64(16), int64(12), object(23)\n",
      "memory usage: 95.8+ KB\n"
     ]
    }
   ],
   "source": [
    "acute_disease_data.info()"
   ]
  },
  {
   "cell_type": "code",
   "execution_count": 3,
   "id": "6ef14350",
   "metadata": {},
   "outputs": [],
   "source": [
    "# До кучи удалим и PRSCHEM и COND. Их слишком много, они роняют запоонятель NA \n",
    "acute_disease_data = acute_disease_data.drop([\"PTSTAT\", \"SEVGRADE\", \"SEVTYPE\", \"PRSCHEM\", \"COND\"], axis = 1)\n",
    "acute_disease_data = acute_disease_data.drop(list(acute_disease_data.filter(regex='chronic')), axis = 1)\n",
    "# Устраним малозначимеы переменные\n",
    "acute_disease_data = acute_disease_data.drop([\"GVHDMETH\"], axis = 1)\n",
    "# Чистим датасет от пациентов, для которых неизвестен исход\n",
    "acute_disease_data[\"REFSTYN\"].map({\"stated subjectively\": \"yes\"})\n",
    "#acute_disease_data = acute_disease_data.drop(acute_disease_data.query(\"REFSTYN not in ['yes', 'no']\").index, axis=0)\n",
    "# Уберем переменные с данными о резистентности, на которых легко переобучится\n",
    "acute_disease_data = acute_disease_data.drop([\"REFSTDTC\", \"REFSTLOT\"], axis=1)\n",
    "# Уберем даты в чистом виде\n",
    "acute_disease_data = acute_disease_data.loc[:, ~acute_disease_data.columns.str.endswith('DTC')]\n",
    "# Поменяем в ряде колонок \"unknown\" и тому подобное на NA\n",
    "acute_disease_data.replace('unknown', np.nan, inplace=True)"
   ]
  },
  {
   "cell_type": "code",
   "execution_count": 4,
   "id": "3c556386",
   "metadata": {},
   "outputs": [],
   "source": [
    "# X = acute_disease_data.drop([\"REFSTYN\"], axis=1)\n",
    "# y = acute_disease_data[\"REFSTYN\"]\n",
    "# # Перекодируем таргетную переменную в числовой вид\n",
    "# y = y.map({\"no\":0, \"yes\":1})"
   ]
  },
  {
   "cell_type": "code",
   "execution_count": 16,
   "id": "0d84dc4b",
   "metadata": {},
   "outputs": [],
   "source": [
    "# Альтернативный подход\n",
    "acute_disease_data = acute_disease_data.drop(acute_disease_data.query(\"ALIVE not in ['alive', 'died']\").index, axis=0)\n",
    "X = acute_disease_data.drop([\"ALIVE\"], axis=1)\n",
    "y = acute_disease_data[\"ALIVE\"]\n",
    "# Перекодируем таргетную переменную в числовой вид\n",
    "y = y.map({\"alive\":0, \"died\":1})"
   ]
  },
  {
   "cell_type": "code",
   "execution_count": 17,
   "id": "3e23bcc5",
   "metadata": {},
   "outputs": [],
   "source": [
    "# Тупо, но иначе я натыкаюсь на проблему с тем, чтобы присвоить куче колонок результат функции типа `acute_treatment_data.select_dtypes(include=[\"object\"]).astype(\"category\")`\n",
    "for column in X.columns:\n",
    "    if X[column].dtype == 'object':\n",
    "        X[column] = X[column].astype(\"category\")\n",
    "\n",
    "### НЕ РЕШЕНА ПРОБЛЕМА КОНВЕРТАЦИИ ИНТОВ В ФАКТОР ###\n",
    "# X[\"TIMGDOSE\"] = X[\"TIMGDOSE\"].astype(\"category\")\n",
    "# X[\"HATGDOSE\"] = X[\"HATGDOSE\"].astype(\"category\")\n",
    "# X[\"SITE\"] = X[\"SITE\"].astype(\"category\")"
   ]
  },
  {
   "cell_type": "code",
   "execution_count": 18,
   "id": "29c7b245",
   "metadata": {},
   "outputs": [],
   "source": [
    "X_train_1, X_test_1, y_train_1, y_test_1 = train_test_split(X, y, test_size=0.2, random_state=1999)"
   ]
  },
  {
   "cell_type": "markdown",
   "id": "16f41937",
   "metadata": {},
   "source": [
    "### Замещаем NA в данных"
   ]
  },
  {
   "cell_type": "code",
   "execution_count": 19,
   "id": "3eb7d51a",
   "metadata": {},
   "outputs": [],
   "source": [
    "kds_train = mf.ImputationKernel(\n",
    "  X_train_1,\n",
    "  save_all_iterations=True,\n",
    "  random_state=100\n",
    ")\n",
    "kds_train.mice(10)\n",
    "acute_X_train_imputed = kds_train.complete_data()\n",
    "\n",
    "\n",
    "kds_test = mf.ImputationKernel(\n",
    "  X_test_1,\n",
    "  save_all_iterations=True,\n",
    "  random_state=100\n",
    ")\n",
    "kds_test.mice(10)\n",
    "acute_X_test_imputed = kds_test.complete_data()"
   ]
  },
  {
   "cell_type": "markdown",
   "id": "5493f4b4",
   "metadata": {},
   "source": [
    "### Имплементируем кота в бусте"
   ]
  },
  {
   "cell_type": "code",
   "execution_count": 20,
   "id": "2ed925b2",
   "metadata": {},
   "outputs": [],
   "source": [
    "# Набираем категориальные и нумерические переменные\n",
    "categorical_features_indices = np.where(X.dtypes == \"category\")[0]\n",
    "numerical_features_indices = np.where(X.dtypes != \"category\")[0]\n",
    "# Надо убрать и инты"
   ]
  },
  {
   "cell_type": "code",
   "execution_count": 21,
   "id": "df4b3fec",
   "metadata": {},
   "outputs": [],
   "source": [
    "# Делим тренировочную выборку на трейн и вал (пополам)\n",
    "X_train, X_val, y_train, y_val = train_test_split(acute_X_train_imputed, y_train_1, \n",
    "                                                    test_size=0.5, random_state=1999)"
   ]
  },
  {
   "cell_type": "code",
   "execution_count": 22,
   "id": "e2491cbf",
   "metadata": {},
   "outputs": [],
   "source": [
    "# Создаем пулы\n",
    "cat_train_pool = Pool(X_train, y_train, cat_features=categorical_features_indices)\n",
    "cat_val_pool = Pool(X_val, y_val, cat_features=categorical_features_indices)\n",
    "cat_test_pool = Pool(acute_X_test_imputed, y_test_1, cat_features=categorical_features_indices)\n",
    "\n",
    "numeric_train_pool = Pool(X_train.iloc[:,numerical_features_indices], y_train)\n",
    "numeric_val_pool = Pool(X_val.iloc[:,numerical_features_indices], y_val)\n",
    "numeric_test_pool = Pool(acute_X_test_imputed.iloc[:,numerical_features_indices], y_test_1)"
   ]
  },
  {
   "cell_type": "code",
   "execution_count": 23,
   "id": "f3a71c9c",
   "metadata": {},
   "outputs": [],
   "source": [
    "# # Подбираем гиперпараметры с гипероптом\n",
    "# def hyperopt_objective(params):\n",
    "#     model = CatBoostClassifier(\n",
    "#         l2_leaf_reg=int(params['l2_leaf_reg']),\n",
    "#         learning_rate=params['learning_rate'],\n",
    "#         iterations=1000,\n",
    "#         eval_metric=metrics.,\n",
    "#         random_seed=42,\n",
    "#         verbose=False,\n",
    "#         loss_function=metrics.Logloss(),\n",
    "#     )\n",
    "    \n",
    "#     # Делаем кроссвалидацию\n",
    "#     cv_data = cv(\n",
    "#         params = model.get_params(),\n",
    "#         pool = train_pool,\n",
    "#         fold_count=5,\n",
    "#         shuffle=True,\n",
    "#         partition_random_seed=1999,\n",
    "#         plot=True,\n",
    "#         stratified=True,\n",
    "#         verbose=False\n",
    "#     )\n",
    "#     best_accuracy = np.max(cv_data['test-Accuracy-mean'])\n",
    "    \n",
    "#     return 1 - best_accuracy"
   ]
  },
  {
   "cell_type": "code",
   "execution_count": 24,
   "id": "b6479979",
   "metadata": {},
   "outputs": [
    {
     "ename": "NameError",
     "evalue": "name 'hyperopt_objective' is not defined",
     "output_type": "error",
     "traceback": [
      "\u001b[0;31m---------------------------------------------------------------------------\u001b[0m",
      "\u001b[0;31mNameError\u001b[0m                                 Traceback (most recent call last)",
      "\u001b[0;32m<ipython-input-24-89204c19c526>\u001b[0m in \u001b[0;36m<cell line: 10>\u001b[0;34m()\u001b[0m\n\u001b[1;32m      9\u001b[0m \u001b[0;34m\u001b[0m\u001b[0m\n\u001b[1;32m     10\u001b[0m best = hyperopt.fmin(\n\u001b[0;32m---> 11\u001b[0;31m     \u001b[0mhyperopt_objective\u001b[0m\u001b[0;34m,\u001b[0m\u001b[0;34m\u001b[0m\u001b[0;34m\u001b[0m\u001b[0m\n\u001b[0m\u001b[1;32m     12\u001b[0m     \u001b[0mspace\u001b[0m\u001b[0;34m=\u001b[0m\u001b[0mparams_space\u001b[0m\u001b[0;34m,\u001b[0m\u001b[0;34m\u001b[0m\u001b[0;34m\u001b[0m\u001b[0m\n\u001b[1;32m     13\u001b[0m     \u001b[0malgo\u001b[0m\u001b[0;34m=\u001b[0m\u001b[0mhyperopt\u001b[0m\u001b[0;34m.\u001b[0m\u001b[0mtpe\u001b[0m\u001b[0;34m.\u001b[0m\u001b[0msuggest\u001b[0m\u001b[0;34m,\u001b[0m\u001b[0;34m\u001b[0m\u001b[0;34m\u001b[0m\u001b[0m\n",
      "\u001b[0;31mNameError\u001b[0m: name 'hyperopt_objective' is not defined"
     ]
    }
   ],
   "source": [
    "# from numpy.random import RandomState\n",
    "\n",
    "# params_space = {\n",
    "#     'l2_leaf_reg': hyperopt.hp.qloguniform('l2_leaf_reg', 0, 2, 1),\n",
    "#     'learning_rate': hyperopt.hp.uniform('learning_rate', 1e-3, 5e-1),\n",
    "# }\n",
    "\n",
    "# trials = hyperopt.Trials()\n",
    "\n",
    "# best = hyperopt.fmin(\n",
    "#     hyperopt_objective,\n",
    "#     space=params_space,\n",
    "#     algo=hyperopt.tpe.suggest,\n",
    "#     max_evals=50,\n",
    "#     trials=trials,\n",
    "#     rstate=RandomState(123)\n",
    "# )\n",
    "\n",
    "# print(best)"
   ]
  },
  {
   "cell_type": "code",
   "execution_count": 27,
   "id": "1a032e68",
   "metadata": {
    "scrolled": true
   },
   "outputs": [
    {
     "name": "stderr",
     "output_type": "stream",
     "text": [
      "[I 2024-01-19 13:50:47,886] A new study created in memory with name: no-name-5e747a3a-a9d5-4bb0-b442-e65340ef59e7\n",
      "[I 2024-01-19 13:50:49,224] Trial 0 finished with value: 0.7579051383399209 and parameters: {'learning_rate': 0.02119760638233799, 'depth': 5, 'l2_leaf_reg': 3.041663082077828, 'boosting_type': 'Plain', 'iterations': 4289}. Best is trial 0 with value: 0.7579051383399209.\n",
      "[I 2024-01-19 13:51:38,784] Trial 1 finished with value: 0.7924901185770751 and parameters: {'learning_rate': 0.029442161753153846, 'depth': 9, 'l2_leaf_reg': 5.328387113359248, 'boosting_type': 'Ordered', 'iterations': 7318}. Best is trial 1 with value: 0.7924901185770751.\n",
      "[I 2024-01-19 13:51:40,533] Trial 2 finished with value: 0.7549407114624506 and parameters: {'learning_rate': 0.013718595095709107, 'depth': 3, 'l2_leaf_reg': 4.582398297973883, 'boosting_type': 'Ordered', 'iterations': 1837}. Best is trial 1 with value: 0.7924901185770751.\n",
      "[I 2024-01-19 13:51:51,963] Trial 3 finished with value: 0.775691699604743 and parameters: {'learning_rate': 0.016414989841413312, 'depth': 7, 'l2_leaf_reg': 6.70960862696189, 'boosting_type': 'Ordered', 'iterations': 6149}. Best is trial 1 with value: 0.7924901185770751.\n",
      "[I 2024-01-19 13:51:54,094] Trial 4 finished with value: 0.7430830039525691 and parameters: {'learning_rate': 0.021950858094536424, 'depth': 5, 'l2_leaf_reg': 4.256097900600826, 'boosting_type': 'Plain', 'iterations': 6347}. Best is trial 1 with value: 0.7924901185770751.\n",
      "[I 2024-01-19 13:51:59,947] Trial 5 finished with value: 0.6408102766798419 and parameters: {'learning_rate': 0.00367104325840718, 'depth': 6, 'l2_leaf_reg': 4.877764869966795, 'boosting_type': 'Ordered', 'iterations': 3191}. Best is trial 1 with value: 0.7924901185770751.\n",
      "[I 2024-01-19 13:52:03,740] Trial 6 finished with value: 0.8013833992094862 and parameters: {'learning_rate': 0.013364187901921436, 'depth': 11, 'l2_leaf_reg': 9.497440163834916, 'boosting_type': 'Plain', 'iterations': 1244}. Best is trial 6 with value: 0.8013833992094862.\n",
      "[I 2024-01-19 13:52:08,188] Trial 7 finished with value: 0.7144268774703557 and parameters: {'learning_rate': 0.010201278972789305, 'depth': 6, 'l2_leaf_reg': 8.796782420950294, 'boosting_type': 'Plain', 'iterations': 9858}. Best is trial 6 with value: 0.8013833992094862.\n",
      "[I 2024-01-19 13:52:30,755] Trial 8 finished with value: 0.808300395256917 and parameters: {'learning_rate': 0.01606506845853447, 'depth': 8, 'l2_leaf_reg': 2.0856579939129136, 'boosting_type': 'Ordered', 'iterations': 5496}. Best is trial 8 with value: 0.808300395256917.\n",
      "[I 2024-01-19 13:52:33,050] Trial 9 finished with value: 0.7509881422924901 and parameters: {'learning_rate': 0.010940151179454943, 'depth': 5, 'l2_leaf_reg': 4.753199899222315, 'boosting_type': 'Plain', 'iterations': 5153}. Best is trial 8 with value: 0.808300395256917.\n",
      "[I 2024-01-19 13:53:31,887] Trial 10 finished with value: 0.791501976284585 and parameters: {'learning_rate': 0.0038392260480492706, 'depth': 9, 'l2_leaf_reg': 1.4314528809985412, 'boosting_type': 'Ordered', 'iterations': 8807}. Best is trial 8 with value: 0.808300395256917.\n",
      "[I 2024-01-19 13:53:32,263] Trial 11 finished with value: 0.8231225296442688 and parameters: {'learning_rate': 0.01892657698934, 'depth': 11, 'l2_leaf_reg': 9.75143906165625, 'boosting_type': 'Plain', 'iterations': 179}. Best is trial 11 with value: 0.8231225296442688.\n",
      "[I 2024-01-19 13:53:33,842] Trial 12 finished with value: 0.733201581027668 and parameters: {'learning_rate': 0.018768861431805395, 'depth': 11, 'l2_leaf_reg': 7.3052541291731, 'boosting_type': 'Ordered', 'iterations': 188}. Best is trial 11 with value: 0.8231225296442688.\n",
      "[I 2024-01-19 13:53:36,852] Trial 13 finished with value: 0.8063241106719368 and parameters: {'learning_rate': 0.02636083448948178, 'depth': 9, 'l2_leaf_reg': 1.1481632908368056, 'boosting_type': 'Plain', 'iterations': 2958}. Best is trial 11 with value: 0.8231225296442688.\n",
      "[I 2024-01-19 13:54:31,705] Trial 14 finished with value: 0.6146245059288538 and parameters: {'learning_rate': 0.007715150718546154, 'depth': 10, 'l2_leaf_reg': 2.760367944759863, 'boosting_type': 'Ordered', 'iterations': 4222}. Best is trial 11 with value: 0.8231225296442688.\n",
      "[I 2024-01-19 13:54:37,651] Trial 15 finished with value: 0.7707509881422925 and parameters: {'learning_rate': 0.02287589390549883, 'depth': 8, 'l2_leaf_reg': 7.027187455935222, 'boosting_type': 'Plain', 'iterations': 7408}. Best is trial 11 with value: 0.8231225296442688.\n",
      "[I 2024-01-19 13:54:37,981] Trial 16 finished with value: 0.8236166007905138 and parameters: {'learning_rate': 0.017142726400337056, 'depth': 10, 'l2_leaf_reg': 8.298979896526385, 'boosting_type': 'Plain', 'iterations': 221}. Best is trial 16 with value: 0.8236166007905138.\n",
      "[I 2024-01-19 13:54:38,256] Trial 17 finished with value: 0.8231225296442688 and parameters: {'learning_rate': 0.018990199181601674, 'depth': 11, 'l2_leaf_reg': 9.985884950617193, 'boosting_type': 'Plain', 'iterations': 139}. Best is trial 16 with value: 0.8236166007905138.\n",
      "[I 2024-01-19 13:54:41,282] Trial 18 finished with value: 0.8033596837944664 and parameters: {'learning_rate': 0.023498581696526605, 'depth': 10, 'l2_leaf_reg': 8.15590816279685, 'boosting_type': 'Plain', 'iterations': 1613}. Best is trial 16 with value: 0.8236166007905138.\n",
      "[I 2024-01-19 13:54:46,125] Trial 19 finished with value: 0.7905138339920948 and parameters: {'learning_rate': 0.01858964590369343, 'depth': 10, 'l2_leaf_reg': 8.258747744206058, 'boosting_type': 'Plain', 'iterations': 2697}. Best is trial 16 with value: 0.8236166007905138.\n",
      "[I 2024-01-19 13:54:46,881] Trial 20 finished with value: 0.7697628458498024 and parameters: {'learning_rate': 0.025734532952489852, 'depth': 8, 'l2_leaf_reg': 6.305596066738701, 'boosting_type': 'Plain', 'iterations': 939}. Best is trial 16 with value: 0.8236166007905138.\n",
      "[I 2024-01-19 13:54:47,181] Trial 21 finished with value: 0.8231225296442688 and parameters: {'learning_rate': 0.018768496949612908, 'depth': 11, 'l2_leaf_reg': 9.93999780327402, 'boosting_type': 'Plain', 'iterations': 135}. Best is trial 16 with value: 0.8236166007905138.\n",
      "[I 2024-01-19 13:54:47,451] Trial 22 finished with value: 0.8241106719367589 and parameters: {'learning_rate': 0.019688963435525696, 'depth': 11, 'l2_leaf_reg': 9.184884781967295, 'boosting_type': 'Plain', 'iterations': 137}. Best is trial 22 with value: 0.8241106719367589.\n",
      "[I 2024-01-19 13:54:51,416] Trial 23 finished with value: 0.7855731225296443 and parameters: {'learning_rate': 0.014421384387333817, 'depth': 10, 'l2_leaf_reg': 8.991708189900356, 'boosting_type': 'Plain', 'iterations': 2166}. Best is trial 22 with value: 0.8241106719367589.\n",
      "[I 2024-01-19 13:54:53,649] Trial 24 finished with value: 0.7994071146245059 and parameters: {'learning_rate': 0.016782149283424443, 'depth': 11, 'l2_leaf_reg': 8.100749424874099, 'boosting_type': 'Plain', 'iterations': 742}. Best is trial 22 with value: 0.8241106719367589.\n",
      "[I 2024-01-19 13:54:57,563] Trial 25 finished with value: 0.7875494071146245 and parameters: {'learning_rate': 0.011093871694776233, 'depth': 10, 'l2_leaf_reg': 9.233204386254965, 'boosting_type': 'Plain', 'iterations': 2280}. Best is trial 22 with value: 0.8241106719367589.\n",
      "[I 2024-01-19 13:55:01,715] Trial 26 finished with value: 0.7598814229249011 and parameters: {'learning_rate': 0.025168336644379705, 'depth': 9, 'l2_leaf_reg': 7.545780955470862, 'boosting_type': 'Plain', 'iterations': 3946}. Best is trial 22 with value: 0.8241106719367589.\n",
      "[I 2024-01-19 13:55:04,653] Trial 27 finished with value: 0.7895256916996047 and parameters: {'learning_rate': 0.020360659584859386, 'depth': 11, 'l2_leaf_reg': 8.664737556053508, 'boosting_type': 'Plain', 'iterations': 938}. Best is trial 22 with value: 0.8241106719367589.\n",
      "[I 2024-01-19 13:55:07,361] Trial 28 finished with value: 0.782608695652174 and parameters: {'learning_rate': 0.028344232312051708, 'depth': 10, 'l2_leaf_reg': 5.948659664009746, 'boosting_type': 'Plain', 'iterations': 1548}. Best is trial 22 with value: 0.8241106719367589.\n",
      "[I 2024-01-19 13:55:11,422] Trial 29 finished with value: 0.7539525691699605 and parameters: {'learning_rate': 0.020773005023964945, 'depth': 9, 'l2_leaf_reg': 7.721427646794323, 'boosting_type': 'Plain', 'iterations': 3700}. Best is trial 22 with value: 0.8241106719367589.\n"
     ]
    },
    {
     "name": "stderr",
     "output_type": "stream",
     "text": [
      "[I 2024-01-19 13:55:11,705] Trial 30 finished with value: 0.7796442687747036 and parameters: {'learning_rate': 0.01729526710270424, 'depth': 7, 'l2_leaf_reg': 9.438917799280432, 'boosting_type': 'Plain', 'iterations': 421}. Best is trial 22 with value: 0.8241106719367589.\n",
      "[I 2024-01-19 13:55:14,337] Trial 31 finished with value: 0.7766798418972332 and parameters: {'learning_rate': 0.020275800203286443, 'depth': 11, 'l2_leaf_reg': 9.681620927413489, 'boosting_type': 'Plain', 'iterations': 840}. Best is trial 22 with value: 0.8241106719367589.\n",
      "[I 2024-01-19 13:55:14,569] Trial 32 finished with value: 0.8231225296442688 and parameters: {'learning_rate': 0.018659452581412363, 'depth': 11, 'l2_leaf_reg': 9.831861106141492, 'boosting_type': 'Plain', 'iterations': 103}. Best is trial 22 with value: 0.8241106719367589.\n",
      "[I 2024-01-19 13:55:16,923] Trial 33 finished with value: 0.7964426877470356 and parameters: {'learning_rate': 0.0145651548707951, 'depth': 10, 'l2_leaf_reg': 8.699760869644104, 'boosting_type': 'Plain', 'iterations': 1393}. Best is trial 22 with value: 0.8241106719367589.\n",
      "[I 2024-01-19 13:55:17,609] Trial 34 finished with value: 0.7252964426877471 and parameters: {'learning_rate': 0.021053775411649312, 'depth': 3, 'l2_leaf_reg': 9.29828408038628, 'boosting_type': 'Plain', 'iterations': 2074}. Best is trial 22 with value: 0.8241106719367589.\n",
      "[I 2024-01-19 13:55:19,817] Trial 35 finished with value: 0.7806324110671936 and parameters: {'learning_rate': 0.017484412470213574, 'depth': 11, 'l2_leaf_reg': 3.78174494477481, 'boosting_type': 'Plain', 'iterations': 731}. Best is trial 22 with value: 0.8241106719367589.\n",
      "[I 2024-01-19 13:55:24,201] Trial 36 finished with value: 0.7747035573122529 and parameters: {'learning_rate': 0.01256184160128511, 'depth': 10, 'l2_leaf_reg': 9.887214188022906, 'boosting_type': 'Plain', 'iterations': 2560}. Best is trial 22 with value: 0.8241106719367589.\n",
      "[I 2024-01-19 13:55:26,082] Trial 37 finished with value: 0.7677865612648221 and parameters: {'learning_rate': 0.02398663428010453, 'depth': 9, 'l2_leaf_reg': 8.472746127845156, 'boosting_type': 'Plain', 'iterations': 1685}. Best is trial 22 with value: 0.8241106719367589.\n",
      "[I 2024-01-19 13:55:28,005] Trial 38 finished with value: 0.7509881422924901 and parameters: {'learning_rate': 0.02234180616568658, 'depth': 4, 'l2_leaf_reg': 7.864083079043572, 'boosting_type': 'Ordered', 'iterations': 1212}. Best is trial 22 with value: 0.8241106719367589.\n",
      "[I 2024-01-19 13:55:29,717] Trial 39 finished with value: 0.7934782608695652 and parameters: {'learning_rate': 0.015125333901463497, 'depth': 11, 'l2_leaf_reg': 9.01971692892004, 'boosting_type': 'Plain', 'iterations': 534}. Best is trial 22 with value: 0.8241106719367589.\n",
      "[I 2024-01-19 13:55:33,477] Trial 40 finished with value: 0.8003952569169961 and parameters: {'learning_rate': 0.012628358121374831, 'depth': 11, 'l2_leaf_reg': 6.761285912157698, 'boosting_type': 'Plain', 'iterations': 1186}. Best is trial 22 with value: 0.8241106719367589.\n",
      "[I 2024-01-19 13:55:33,816] Trial 41 finished with value: 0.8231225296442688 and parameters: {'learning_rate': 0.019567269979908018, 'depth': 11, 'l2_leaf_reg': 9.889796485108334, 'boosting_type': 'Plain', 'iterations': 164}. Best is trial 22 with value: 0.8241106719367589.\n",
      "[I 2024-01-19 13:55:34,306] Trial 42 finished with value: 0.8152173913043479 and parameters: {'learning_rate': 0.016230506032302465, 'depth': 11, 'l2_leaf_reg': 9.984606682989744, 'boosting_type': 'Plain', 'iterations': 204}. Best is trial 22 with value: 0.8241106719367589.\n",
      "[I 2024-01-19 13:55:41,249] Trial 43 finished with value: 0.775691699604743 and parameters: {'learning_rate': 0.017672675711439472, 'depth': 10, 'l2_leaf_reg': 9.28216022987489, 'boosting_type': 'Plain', 'iterations': 3439}. Best is trial 22 with value: 0.8241106719367589.\n",
      "[I 2024-01-19 13:55:52,504] Trial 44 finished with value: 0.791501976284585 and parameters: {'learning_rate': 0.021601464197368414, 'depth': 11, 'l2_leaf_reg': 8.788732846290587, 'boosting_type': 'Ordered', 'iterations': 600}. Best is trial 22 with value: 0.8241106719367589.\n",
      "[I 2024-01-19 13:56:06,154] Trial 45 finished with value: 0.7924901185770751 and parameters: {'learning_rate': 0.019257614945398144, 'depth': 10, 'l2_leaf_reg': 9.431346102262985, 'boosting_type': 'Plain', 'iterations': 6688}. Best is trial 22 with value: 0.8241106719367589.\n",
      "[I 2024-01-19 13:56:08,358] Trial 46 finished with value: 0.7381422924901186 and parameters: {'learning_rate': 0.015371157959113408, 'depth': 9, 'l2_leaf_reg': 5.584552707827061, 'boosting_type': 'Plain', 'iterations': 1740}. Best is trial 22 with value: 0.8241106719367589.\n",
      "[I 2024-01-19 13:56:27,828] Trial 47 finished with value: 0.7806324110671936 and parameters: {'learning_rate': 0.007638037871054449, 'depth': 11, 'l2_leaf_reg': 8.428506971265225, 'boosting_type': 'Ordered', 'iterations': 1198}. Best is trial 22 with value: 0.8241106719367589.\n",
      "[I 2024-01-19 13:56:34,993] Trial 48 finished with value: 0.7480237154150198 and parameters: {'learning_rate': 0.017900742101074778, 'depth': 8, 'l2_leaf_reg': 9.01173563243894, 'boosting_type': 'Plain', 'iterations': 8296}. Best is trial 22 with value: 0.8241106719367589.\n",
      "[I 2024-01-19 13:56:45,514] Trial 49 finished with value: 0.8384387351778656 and parameters: {'learning_rate': 0.023910208841194023, 'depth': 10, 'l2_leaf_reg': 9.582669083002472, 'boosting_type': 'Plain', 'iterations': 4727}. Best is trial 49 with value: 0.8384387351778656.\n",
      "[I 2024-01-19 13:56:56,050] Trial 50 finished with value: 0.7845849802371542 and parameters: {'learning_rate': 0.027868042831600215, 'depth': 10, 'l2_leaf_reg': 7.149501267625739, 'boosting_type': 'Plain', 'iterations': 4873}. Best is trial 49 with value: 0.8384387351778656.\n",
      "[I 2024-01-19 13:57:29,971] Trial 51 finished with value: 0.7964426877470356 and parameters: {'learning_rate': 0.02478262110285681, 'depth': 11, 'l2_leaf_reg': 9.558304216073603, 'boosting_type': 'Plain', 'iterations': 9673}. Best is trial 49 with value: 0.8384387351778656.\n",
      "[I 2024-01-19 13:57:40,431] Trial 52 finished with value: 0.7865612648221344 and parameters: {'learning_rate': 0.02201668857918986, 'depth': 10, 'l2_leaf_reg': 9.964917300973736, 'boosting_type': 'Plain', 'iterations': 5579}. Best is trial 49 with value: 0.8384387351778656.\n",
      "[I 2024-01-19 13:57:40,777] Trial 53 finished with value: 0.766798418972332 and parameters: {'learning_rate': 0.019598129223215743, 'depth': 6, 'l2_leaf_reg': 9.006646185848755, 'boosting_type': 'Plain', 'iterations': 497}. Best is trial 49 with value: 0.8384387351778656.\n",
      "[I 2024-01-19 13:57:41,025] Trial 54 finished with value: 0.8241106719367589 and parameters: {'learning_rate': 0.023493033291318112, 'depth': 11, 'l2_leaf_reg': 9.563800764940064, 'boosting_type': 'Plain', 'iterations': 118}. Best is trial 49 with value: 0.8384387351778656.\n",
      "[I 2024-01-19 13:57:45,652] Trial 55 finished with value: 0.7618577075098814 and parameters: {'learning_rate': 0.026948138291444667, 'depth': 7, 'l2_leaf_reg': 9.549067889831173, 'boosting_type': 'Plain', 'iterations': 7414}. Best is trial 49 with value: 0.8384387351778656.\n",
      "[I 2024-01-19 13:57:53,321] Trial 56 finished with value: 0.6808300395256917 and parameters: {'learning_rate': 0.023080480648079434, 'depth': 9, 'l2_leaf_reg': 7.993130649372113, 'boosting_type': 'Ordered', 'iterations': 1071}. Best is trial 49 with value: 0.8384387351778656.\n",
      "[I 2024-01-19 13:57:54,435] Trial 57 finished with value: 0.7924901185770751 and parameters: {'learning_rate': 0.023558376818735814, 'depth': 10, 'l2_leaf_reg': 8.280134885046419, 'boosting_type': 'Plain', 'iterations': 504}. Best is trial 49 with value: 0.8384387351778656.\n",
      "[I 2024-01-19 13:58:13,071] Trial 58 finished with value: 0.7954545454545454 and parameters: {'learning_rate': 0.029509547515467652, 'depth': 11, 'l2_leaf_reg': 9.13738587071273, 'boosting_type': 'Plain', 'iterations': 4831}. Best is trial 49 with value: 0.8384387351778656.\n",
      "[I 2024-01-19 13:58:18,746] Trial 59 finished with value: 0.7243083003952568 and parameters: {'learning_rate': 0.024703168811910915, 'depth': 10, 'l2_leaf_reg': 7.470466422966339, 'boosting_type': 'Plain', 'iterations': 2859}. Best is trial 49 with value: 0.8384387351778656.\n"
     ]
    },
    {
     "name": "stderr",
     "output_type": "stream",
     "text": [
      "[I 2024-01-19 13:58:27,149] Trial 60 finished with value: 0.7677865612648221 and parameters: {'learning_rate': 0.016086511273669814, 'depth': 11, 'l2_leaf_reg': 8.541268006895942, 'boosting_type': 'Plain', 'iterations': 2375}. Best is trial 49 with value: 0.8384387351778656.\n",
      "[I 2024-01-19 13:58:27,781] Trial 61 finished with value: 0.8043478260869565 and parameters: {'learning_rate': 0.020179304465016576, 'depth': 11, 'l2_leaf_reg': 9.61466867073789, 'boosting_type': 'Plain', 'iterations': 227}. Best is trial 49 with value: 0.8384387351778656.\n",
      "[I 2024-01-19 13:58:30,813] Trial 62 finished with value: 0.8033596837944664 and parameters: {'learning_rate': 0.018259199734905352, 'depth': 11, 'l2_leaf_reg': 9.61265248036114, 'boosting_type': 'Plain', 'iterations': 858}. Best is trial 49 with value: 0.8384387351778656.\n",
      "[I 2024-01-19 13:58:34,975] Trial 63 finished with value: 0.8043478260869565 and parameters: {'learning_rate': 0.021419089463123042, 'depth': 10, 'l2_leaf_reg': 8.834276171021884, 'boosting_type': 'Plain', 'iterations': 1954}. Best is trial 49 with value: 0.8384387351778656.\n",
      "[I 2024-01-19 13:58:35,995] Trial 64 finished with value: 0.8122529644268774 and parameters: {'learning_rate': 0.002228515273241456, 'depth': 11, 'l2_leaf_reg': 9.30066877708886, 'boosting_type': 'Plain', 'iterations': 421}. Best is trial 49 with value: 0.8384387351778656.\n",
      "[I 2024-01-19 13:58:38,602] Trial 65 finished with value: 0.8384387351778656 and parameters: {'learning_rate': 0.026065325901488082, 'depth': 10, 'l2_leaf_reg': 9.984298186337034, 'boosting_type': 'Plain', 'iterations': 1399}. Best is trial 49 with value: 0.8384387351778656.\n",
      "[I 2024-01-19 13:58:41,529] Trial 66 finished with value: 0.7608695652173914 and parameters: {'learning_rate': 0.02735695477932607, 'depth': 10, 'l2_leaf_reg': 4.377900486805068, 'boosting_type': 'Plain', 'iterations': 1426}. Best is trial 49 with value: 0.8384387351778656.\n",
      "[I 2024-01-19 13:58:42,507] Trial 67 finished with value: 0.766798418972332 and parameters: {'learning_rate': 0.024124608202855023, 'depth': 9, 'l2_leaf_reg': 9.216411854365193, 'boosting_type': 'Plain', 'iterations': 708}. Best is trial 49 with value: 0.8384387351778656.\n",
      "[I 2024-01-19 13:58:56,072] Trial 68 finished with value: 0.8092885375494071 and parameters: {'learning_rate': 0.025717640150378, 'depth': 10, 'l2_leaf_reg': 9.692426223686228, 'boosting_type': 'Ordered', 'iterations': 973}. Best is trial 49 with value: 0.8384387351778656.\n",
      "[I 2024-01-19 13:59:04,715] Trial 69 finished with value: 0.7687747035573123 and parameters: {'learning_rate': 0.026507228865959104, 'depth': 10, 'l2_leaf_reg': 3.1672731388813906, 'boosting_type': 'Plain', 'iterations': 4357}. Best is trial 49 with value: 0.8384387351778656.\n",
      "[I 2024-01-19 13:59:05,176] Trial 70 finished with value: 0.7855731225296443 and parameters: {'learning_rate': 0.022566570562362685, 'depth': 9, 'l2_leaf_reg': 8.878813426075038, 'boosting_type': 'Plain', 'iterations': 336}. Best is trial 49 with value: 0.8384387351778656.\n",
      "[I 2024-01-19 13:59:05,604] Trial 71 finished with value: 0.8231225296442688 and parameters: {'learning_rate': 0.016728272446536088, 'depth': 11, 'l2_leaf_reg': 9.995772539587799, 'boosting_type': 'Plain', 'iterations': 167}. Best is trial 49 with value: 0.8384387351778656.\n",
      "[I 2024-01-19 13:59:08,356] Trial 72 finished with value: 0.7984189723320159 and parameters: {'learning_rate': 0.028337073379993492, 'depth': 11, 'l2_leaf_reg': 9.693628616722647, 'boosting_type': 'Plain', 'iterations': 660}. Best is trial 49 with value: 0.8384387351778656.\n",
      "[I 2024-01-19 13:59:08,672] Trial 73 finished with value: 0.8241106719367589 and parameters: {'learning_rate': 0.018742723003060936, 'depth': 11, 'l2_leaf_reg': 9.396016027106059, 'boosting_type': 'Plain', 'iterations': 120}. Best is trial 49 with value: 0.8384387351778656.\n",
      "[I 2024-01-19 13:59:15,001] Trial 74 finished with value: 0.7766798418972332 and parameters: {'learning_rate': 0.020808306881804246, 'depth': 11, 'l2_leaf_reg': 9.382816959529588, 'boosting_type': 'Plain', 'iterations': 1341}. Best is trial 49 with value: 0.8384387351778656.\n",
      "[I 2024-01-19 13:59:17,292] Trial 75 finished with value: 0.7934782608695652 and parameters: {'learning_rate': 0.02566816157720205, 'depth': 10, 'l2_leaf_reg': 8.674399419727033, 'boosting_type': 'Plain', 'iterations': 905}. Best is trial 49 with value: 0.8384387351778656.\n",
      "[I 2024-01-19 13:59:17,717] Trial 76 finished with value: 0.8181818181818181 and parameters: {'learning_rate': 0.013952617243001009, 'depth': 8, 'l2_leaf_reg': 4.99810736357419, 'boosting_type': 'Plain', 'iterations': 379}. Best is trial 49 with value: 0.8384387351778656.\n",
      "[I 2024-01-19 13:59:25,962] Trial 77 finished with value: 0.7855731225296443 and parameters: {'learning_rate': 0.019418958936076588, 'depth': 11, 'l2_leaf_reg': 9.134926656437356, 'boosting_type': 'Plain', 'iterations': 1805}. Best is trial 49 with value: 0.8384387351778656.\n",
      "[I 2024-01-19 13:59:26,209] Trial 78 finished with value: 0.8102766798418972 and parameters: {'learning_rate': 0.01724289551841094, 'depth': 10, 'l2_leaf_reg': 9.73417038884109, 'boosting_type': 'Plain', 'iterations': 110}. Best is trial 49 with value: 0.8384387351778656.\n",
      "[I 2024-01-19 13:59:49,912] Trial 79 finished with value: 0.7598814229249011 and parameters: {'learning_rate': 0.018673598064597178, 'depth': 11, 'l2_leaf_reg': 8.306165361412495, 'boosting_type': 'Plain', 'iterations': 6172}. Best is trial 49 with value: 0.8384387351778656.\n",
      "[I 2024-01-19 13:59:58,506] Trial 80 finished with value: 0.8063241106719368 and parameters: {'learning_rate': 0.020003569104411194, 'depth': 10, 'l2_leaf_reg': 9.459525876890954, 'boosting_type': 'Ordered', 'iterations': 706}. Best is trial 49 with value: 0.8384387351778656.\n",
      "[I 2024-01-19 14:00:02,696] Trial 81 finished with value: 0.7954545454545454 and parameters: {'learning_rate': 0.021972785686208855, 'depth': 11, 'l2_leaf_reg': 9.963269974563651, 'boosting_type': 'Plain', 'iterations': 1094}. Best is trial 49 with value: 0.8384387351778656.\n",
      "[I 2024-01-19 14:00:04,166] Trial 82 finished with value: 0.7934782608695652 and parameters: {'learning_rate': 0.01835500797856599, 'depth': 11, 'l2_leaf_reg': 9.74859320678668, 'boosting_type': 'Plain', 'iterations': 467}. Best is trial 49 with value: 0.8384387351778656.\n",
      "[I 2024-01-19 14:00:09,244] Trial 83 finished with value: 0.8063241106719368 and parameters: {'learning_rate': 0.020702637848507736, 'depth': 11, 'l2_leaf_reg': 9.361671295536244, 'boosting_type': 'Plain', 'iterations': 1460}. Best is trial 49 with value: 0.8384387351778656.\n",
      "[I 2024-01-19 14:00:09,487] Trial 84 finished with value: 0.8241106719367589 and parameters: {'learning_rate': 0.016597791611826087, 'depth': 11, 'l2_leaf_reg': 9.052487860278882, 'boosting_type': 'Plain', 'iterations': 105}. Best is trial 49 with value: 0.8384387351778656.\n",
      "[I 2024-01-19 14:00:11,796] Trial 85 finished with value: 0.7954545454545454 and parameters: {'learning_rate': 0.015527865605400072, 'depth': 11, 'l2_leaf_reg': 8.953444382628527, 'boosting_type': 'Plain', 'iterations': 716}. Best is trial 49 with value: 0.8384387351778656.\n",
      "[I 2024-01-19 14:00:12,985] Trial 86 finished with value: 0.8191699604743083 and parameters: {'learning_rate': 0.012939429249290837, 'depth': 11, 'l2_leaf_reg': 8.706931693264094, 'boosting_type': 'Plain', 'iterations': 415}. Best is trial 49 with value: 0.8384387351778656.\n",
      "[I 2024-01-19 14:00:13,213] Trial 87 finished with value: 0.8102766798418972 and parameters: {'learning_rate': 0.01704131517523537, 'depth': 10, 'l2_leaf_reg': 9.148937970248358, 'boosting_type': 'Plain', 'iterations': 130}. Best is trial 49 with value: 0.8384387351778656.\n",
      "[I 2024-01-19 14:00:13,741] Trial 88 finished with value: 0.7480237154150198 and parameters: {'learning_rate': 0.023162651051026606, 'depth': 5, 'l2_leaf_reg': 8.486593944690615, 'boosting_type': 'Plain', 'iterations': 1016}. Best is trial 49 with value: 0.8384387351778656.\n",
      "[I 2024-01-19 14:00:19,820] Trial 89 finished with value: 0.7351778656126482 and parameters: {'learning_rate': 0.014701742218919442, 'depth': 10, 'l2_leaf_reg': 9.489140513793252, 'boosting_type': 'Plain', 'iterations': 3125}. Best is trial 49 with value: 0.8384387351778656.\n"
     ]
    },
    {
     "name": "stderr",
     "output_type": "stream",
     "text": [
      "[I 2024-01-19 14:00:23,793] Trial 90 finished with value: 0.7677865612648221 and parameters: {'learning_rate': 0.017869122666778422, 'depth': 7, 'l2_leaf_reg': 1.9441183852871116, 'boosting_type': 'Plain', 'iterations': 6828}. Best is trial 49 with value: 0.8384387351778656.\n",
      "[I 2024-01-19 14:00:24,681] Trial 91 finished with value: 0.7994071146245059 and parameters: {'learning_rate': 0.018919273281467263, 'depth': 11, 'l2_leaf_reg': 9.805738651743834, 'boosting_type': 'Plain', 'iterations': 304}. Best is trial 49 with value: 0.8384387351778656.\n",
      "[I 2024-01-19 14:00:24,933] Trial 92 finished with value: 0.8231225296442688 and parameters: {'learning_rate': 0.01564572846209997, 'depth': 11, 'l2_leaf_reg': 9.996319699323376, 'boosting_type': 'Plain', 'iterations': 100}. Best is trial 49 with value: 0.8384387351778656.\n",
      "[I 2024-01-19 14:00:26,891] Trial 93 finished with value: 0.7816205533596838 and parameters: {'learning_rate': 0.01670177276107088, 'depth': 11, 'l2_leaf_reg': 9.148720136418898, 'boosting_type': 'Plain', 'iterations': 625}. Best is trial 49 with value: 0.8384387351778656.\n",
      "[I 2024-01-19 14:00:31,048] Trial 94 finished with value: 0.7697628458498024 and parameters: {'learning_rate': 0.019954802985711582, 'depth': 11, 'l2_leaf_reg': 9.443870575215092, 'boosting_type': 'Plain', 'iterations': 1204}. Best is trial 49 with value: 0.8384387351778656.\n",
      "[I 2024-01-19 14:00:32,542] Trial 95 finished with value: 0.7796442687747036 and parameters: {'learning_rate': 0.024084711313938904, 'depth': 10, 'l2_leaf_reg': 9.776218392589321, 'boosting_type': 'Plain', 'iterations': 791}. Best is trial 49 with value: 0.8384387351778656.\n",
      "[I 2024-01-19 14:00:33,784] Trial 96 finished with value: 0.8043478260869565 and parameters: {'learning_rate': 0.017999693916901937, 'depth': 11, 'l2_leaf_reg': 8.936531579135865, 'boosting_type': 'Plain', 'iterations': 387}. Best is trial 49 with value: 0.8384387351778656.\n",
      "[I 2024-01-19 14:00:36,084] Trial 97 finished with value: 0.7559288537549407 and parameters: {'learning_rate': 0.021347827811273118, 'depth': 4, 'l2_leaf_reg': 9.528136125239138, 'boosting_type': 'Plain', 'iterations': 5606}. Best is trial 49 with value: 0.8384387351778656.\n",
      "[I 2024-01-19 14:00:39,697] Trial 98 finished with value: 0.7885375494071146 and parameters: {'learning_rate': 0.018965118319623515, 'depth': 10, 'l2_leaf_reg': 9.30600241723102, 'boosting_type': 'Plain', 'iterations': 1591}. Best is trial 49 with value: 0.8384387351778656.\n",
      "[I 2024-01-19 14:00:47,153] Trial 99 finished with value: 0.7984189723320159 and parameters: {'learning_rate': 0.01634171968288084, 'depth': 11, 'l2_leaf_reg': 7.995493274747545, 'boosting_type': 'Ordered', 'iterations': 536}. Best is trial 49 with value: 0.8384387351778656.\n",
      "[I 2024-01-19 14:00:48,436] Trial 100 finished with value: 0.7638339920948617 and parameters: {'learning_rate': 0.025025152514750626, 'depth': 9, 'l2_leaf_reg': 9.796134473711898, 'boosting_type': 'Plain', 'iterations': 940}. Best is trial 49 with value: 0.8384387351778656.\n",
      "[I 2024-01-19 14:00:49,289] Trial 101 finished with value: 0.8092885375494071 and parameters: {'learning_rate': 0.018567887066233534, 'depth': 11, 'l2_leaf_reg': 9.564024624724729, 'boosting_type': 'Plain', 'iterations': 304}. Best is trial 49 with value: 0.8384387351778656.\n",
      "[I 2024-01-19 14:00:51,257] Trial 102 finished with value: 0.7658102766798419 and parameters: {'learning_rate': 0.017405600829885466, 'depth': 11, 'l2_leaf_reg': 6.509624849705171, 'boosting_type': 'Plain', 'iterations': 594}. Best is trial 49 with value: 0.8384387351778656.\n",
      "[I 2024-01-19 14:00:51,597] Trial 103 finished with value: 0.8231225296442688 and parameters: {'learning_rate': 0.01948604325288467, 'depth': 11, 'l2_leaf_reg': 9.803120315763426, 'boosting_type': 'Plain', 'iterations': 109}. Best is trial 49 with value: 0.8384387351778656.\n",
      "[I 2024-01-19 14:00:52,611] Trial 104 finished with value: 0.7934782608695652 and parameters: {'learning_rate': 0.020654594710962124, 'depth': 11, 'l2_leaf_reg': 9.137703841409483, 'boosting_type': 'Plain', 'iterations': 323}. Best is trial 49 with value: 0.8384387351778656.\n",
      "[I 2024-01-19 14:00:54,473] Trial 105 finished with value: 0.7588932806324111 and parameters: {'learning_rate': 0.01588233796161, 'depth': 10, 'l2_leaf_reg': 9.592903385730185, 'boosting_type': 'Plain', 'iterations': 791}. Best is trial 49 with value: 0.8384387351778656.\n",
      "[I 2024-01-19 14:00:56,794] Trial 106 finished with value: 0.7954545454545454 and parameters: {'learning_rate': 0.026333463010338377, 'depth': 11, 'l2_leaf_reg': 8.597402158923716, 'boosting_type': 'Plain', 'iterations': 513}. Best is trial 49 with value: 0.8384387351778656.\n",
      "[I 2024-01-19 14:01:13,983] Trial 107 finished with value: 0.733201581027668 and parameters: {'learning_rate': 0.022587263696129817, 'depth': 10, 'l2_leaf_reg': 8.804694775844293, 'boosting_type': 'Plain', 'iterations': 8080}. Best is trial 49 with value: 0.8384387351778656.\n",
      "[I 2024-01-19 14:01:18,517] Trial 108 finished with value: 0.8122529644268774 and parameters: {'learning_rate': 0.017642077993083816, 'depth': 11, 'l2_leaf_reg': 9.343139173578203, 'boosting_type': 'Plain', 'iterations': 1217}. Best is trial 49 with value: 0.8384387351778656.\n",
      "[I 2024-01-19 14:01:18,620] Trial 109 finished with value: 0.8171936758893281 and parameters: {'learning_rate': 0.028967598605563652, 'depth': 6, 'l2_leaf_reg': 9.854203171525606, 'boosting_type': 'Plain', 'iterations': 100}. Best is trial 49 with value: 0.8384387351778656.\n",
      "[I 2024-01-19 14:02:13,282] Trial 110 finished with value: 0.716897233201581 and parameters: {'learning_rate': 0.01911584002403378, 'depth': 10, 'l2_leaf_reg': 6.018665460187415, 'boosting_type': 'Ordered', 'iterations': 3890}. Best is trial 49 with value: 0.8384387351778656.\n",
      "[I 2024-01-19 14:02:14,165] Trial 111 finished with value: 0.791501976284585 and parameters: {'learning_rate': 0.01798781281975696, 'depth': 11, 'l2_leaf_reg': 9.994544907531044, 'boosting_type': 'Plain', 'iterations': 253}. Best is trial 49 with value: 0.8384387351778656.\n",
      "[I 2024-01-19 14:02:16,100] Trial 112 finished with value: 0.7934782608695652 and parameters: {'learning_rate': 0.0198837735014263, 'depth': 11, 'l2_leaf_reg': 9.681465091570336, 'boosting_type': 'Plain', 'iterations': 556}. Best is trial 49 with value: 0.8384387351778656.\n",
      "[I 2024-01-19 14:02:18,923] Trial 113 finished with value: 0.7835968379446641 and parameters: {'learning_rate': 0.018439138196260526, 'depth': 11, 'l2_leaf_reg': 9.208149759554532, 'boosting_type': 'Plain', 'iterations': 841}. Best is trial 49 with value: 0.8384387351778656.\n",
      "[I 2024-01-19 14:02:19,788] Trial 114 finished with value: 0.7865612648221344 and parameters: {'learning_rate': 0.016869536808073897, 'depth': 11, 'l2_leaf_reg': 9.846840301326727, 'boosting_type': 'Plain', 'iterations': 313}. Best is trial 49 with value: 0.8384387351778656.\n",
      "[I 2024-01-19 14:02:23,705] Trial 115 finished with value: 0.7835968379446641 and parameters: {'learning_rate': 0.020394739228615108, 'depth': 11, 'l2_leaf_reg': 9.011138847838259, 'boosting_type': 'Plain', 'iterations': 1010}. Best is trial 49 with value: 0.8384387351778656.\n",
      "[I 2024-01-19 14:02:24,923] Trial 116 finished with value: 0.816699604743083 and parameters: {'learning_rate': 0.02181533583843785, 'depth': 10, 'l2_leaf_reg': 9.581580501356473, 'boosting_type': 'Plain', 'iterations': 622}. Best is trial 49 with value: 0.8384387351778656.\n",
      "[I 2024-01-19 14:02:25,189] Trial 117 finished with value: 0.8241106719367589 and parameters: {'learning_rate': 0.01955001478137863, 'depth': 11, 'l2_leaf_reg': 9.386166970024055, 'boosting_type': 'Plain', 'iterations': 101}. Best is trial 49 with value: 0.8384387351778656.\n",
      "[I 2024-01-19 14:02:41,381] Trial 118 finished with value: 0.8023715415019763 and parameters: {'learning_rate': 0.024450255555545947, 'depth': 11, 'l2_leaf_reg': 9.368150088519695, 'boosting_type': 'Plain', 'iterations': 4510}. Best is trial 49 with value: 0.8384387351778656.\n",
      "[I 2024-01-19 14:03:02,690] Trial 119 finished with value: 0.7687747035573123 and parameters: {'learning_rate': 0.02119468647373569, 'depth': 11, 'l2_leaf_reg': 8.984615629548122, 'boosting_type': 'Plain', 'iterations': 5317}. Best is trial 49 with value: 0.8384387351778656.\n"
     ]
    },
    {
     "name": "stderr",
     "output_type": "stream",
     "text": [
      "[I 2024-01-19 14:03:03,603] Trial 120 finished with value: 0.8162055335968379 and parameters: {'learning_rate': 0.015110192775538702, 'depth': 11, 'l2_leaf_reg': 9.44065673488782, 'boosting_type': 'Plain', 'iterations': 330}. Best is trial 49 with value: 0.8384387351778656.\n",
      "[I 2024-01-19 14:03:04,201] Trial 121 finished with value: 0.8043478260869565 and parameters: {'learning_rate': 0.019219496184785488, 'depth': 11, 'l2_leaf_reg': 9.643607532772155, 'boosting_type': 'Plain', 'iterations': 228}. Best is trial 49 with value: 0.8384387351778656.\n",
      "[I 2024-01-19 14:03:04,468] Trial 122 finished with value: 0.8231225296442688 and parameters: {'learning_rate': 0.01964149145752989, 'depth': 11, 'l2_leaf_reg': 9.864381767162385, 'boosting_type': 'Plain', 'iterations': 106}. Best is trial 49 with value: 0.8384387351778656.\n",
      "[I 2024-01-19 14:03:05,412] Trial 123 finished with value: 0.8176877470355731 and parameters: {'learning_rate': 0.018672810757381583, 'depth': 10, 'l2_leaf_reg': 9.288298793031247, 'boosting_type': 'Plain', 'iterations': 471}. Best is trial 49 with value: 0.8384387351778656.\n",
      "[I 2024-01-19 14:03:08,392] Trial 124 finished with value: 0.7628458498023716 and parameters: {'learning_rate': 0.023485715833698493, 'depth': 11, 'l2_leaf_reg': 9.980092549906498, 'boosting_type': 'Plain', 'iterations': 815}. Best is trial 49 with value: 0.8384387351778656.\n",
      "[I 2024-01-19 14:03:10,668] Trial 125 finished with value: 0.7786561264822134 and parameters: {'learning_rate': 0.01738174388453249, 'depth': 11, 'l2_leaf_reg': 9.679419947070516, 'boosting_type': 'Plain', 'iterations': 658}. Best is trial 49 with value: 0.8384387351778656.\n",
      "[I 2024-01-19 14:03:11,997] Trial 126 finished with value: 0.7905138339920948 and parameters: {'learning_rate': 0.02024077803973518, 'depth': 11, 'l2_leaf_reg': 9.112414100490025, 'boosting_type': 'Plain', 'iterations': 402}. Best is trial 49 with value: 0.8384387351778656.\n",
      "[I 2024-01-19 14:03:14,070] Trial 127 finished with value: 0.8206521739130435 and parameters: {'learning_rate': 0.01643516826144361, 'depth': 10, 'l2_leaf_reg': 9.477003114073757, 'boosting_type': 'Plain', 'iterations': 1070}. Best is trial 49 with value: 0.8384387351778656.\n",
      "[I 2024-01-19 14:03:14,421] Trial 128 finished with value: 0.7984189723320159 and parameters: {'learning_rate': 0.009283857401355265, 'depth': 8, 'l2_leaf_reg': 8.835745831398189, 'boosting_type': 'Plain', 'iterations': 271}. Best is trial 49 with value: 0.8384387351778656.\n",
      "[I 2024-01-19 14:03:37,413] Trial 129 finished with value: 0.782608695652174 and parameters: {'learning_rate': 0.01823278078537898, 'depth': 11, 'l2_leaf_reg': 9.754710298183717, 'boosting_type': 'Plain', 'iterations': 5787}. Best is trial 49 with value: 0.8384387351778656.\n",
      "[I 2024-01-19 14:05:47,075] Trial 130 finished with value: 0.7144268774703557 and parameters: {'learning_rate': 0.02731031425822423, 'depth': 10, 'l2_leaf_reg': 8.387582902662933, 'boosting_type': 'Ordered', 'iterations': 9223}. Best is trial 49 with value: 0.8384387351778656.\n",
      "[I 2024-01-19 14:05:47,408] Trial 131 finished with value: 0.8231225296442688 and parameters: {'learning_rate': 0.016659830853308938, 'depth': 11, 'l2_leaf_reg': 9.954393712097026, 'boosting_type': 'Plain', 'iterations': 118}. Best is trial 49 with value: 0.8384387351778656.\n",
      "[I 2024-01-19 14:05:59,335] Trial 132 finished with value: 0.7776679841897234 and parameters: {'learning_rate': 0.017106125477029235, 'depth': 11, 'l2_leaf_reg': 3.891009811570232, 'boosting_type': 'Plain', 'iterations': 3483}. Best is trial 49 with value: 0.8384387351778656.\n",
      "[I 2024-01-19 14:06:00,981] Trial 133 finished with value: 0.8013833992094862 and parameters: {'learning_rate': 0.019195749259777913, 'depth': 11, 'l2_leaf_reg': 9.554894613204873, 'boosting_type': 'Plain', 'iterations': 492}. Best is trial 49 with value: 0.8384387351778656.\n",
      "[I 2024-01-19 14:06:01,704] Trial 134 finished with value: 0.8053359683794467 and parameters: {'learning_rate': 0.013932406768561494, 'depth': 11, 'l2_leaf_reg': 9.832656377466238, 'boosting_type': 'Plain', 'iterations': 279}. Best is trial 49 with value: 0.8384387351778656.\n",
      "[I 2024-01-19 14:06:01,980] Trial 135 finished with value: 0.8231225296442688 and parameters: {'learning_rate': 0.0196732711036547, 'depth': 11, 'l2_leaf_reg': 9.998258011308431, 'boosting_type': 'Plain', 'iterations': 106}. Best is trial 49 with value: 0.8384387351778656.\n",
      "[I 2024-01-19 14:06:04,592] Trial 136 finished with value: 0.7954545454545454 and parameters: {'learning_rate': 0.025545960160421287, 'depth': 11, 'l2_leaf_reg': 9.232953942314754, 'boosting_type': 'Plain', 'iterations': 707}. Best is trial 49 with value: 0.8384387351778656.\n",
      "[I 2024-01-19 14:06:06,068] Trial 137 finished with value: 0.8102766798418972 and parameters: {'learning_rate': 0.017947367540998172, 'depth': 11, 'l2_leaf_reg': 9.413363666901953, 'boosting_type': 'Plain', 'iterations': 452}. Best is trial 49 with value: 0.8384387351778656.\n",
      "[I 2024-01-19 14:06:08,551] Trial 138 finished with value: 0.7984189723320159 and parameters: {'learning_rate': 0.016099652591819728, 'depth': 10, 'l2_leaf_reg': 9.738353887713426, 'boosting_type': 'Plain', 'iterations': 1317}. Best is trial 49 with value: 0.8384387351778656.\n",
      "[I 2024-01-19 14:06:11,561] Trial 139 finished with value: 0.8092885375494071 and parameters: {'learning_rate': 0.021004665495794946, 'depth': 11, 'l2_leaf_reg': 9.609693457524006, 'boosting_type': 'Plain', 'iterations': 875}. Best is trial 49 with value: 0.8384387351778656.\n",
      "[I 2024-01-19 14:06:12,351] Trial 140 finished with value: 0.7697628458498024 and parameters: {'learning_rate': 0.018628256875038145, 'depth': 9, 'l2_leaf_reg': 9.310446135368364, 'boosting_type': 'Plain', 'iterations': 617}. Best is trial 49 with value: 0.8384387351778656.\n",
      "[I 2024-01-19 14:06:12,675] Trial 141 finished with value: 0.8231225296442688 and parameters: {'learning_rate': 0.015489271199207092, 'depth': 11, 'l2_leaf_reg': 9.991634162607916, 'boosting_type': 'Plain', 'iterations': 124}. Best is trial 49 with value: 0.8384387351778656.\n",
      "[I 2024-01-19 14:06:13,001] Trial 142 finished with value: 0.8231225296442688 and parameters: {'learning_rate': 0.015746014030626376, 'depth': 11, 'l2_leaf_reg': 9.998708470525361, 'boosting_type': 'Plain', 'iterations': 115}. Best is trial 49 with value: 0.8384387351778656.\n",
      "[I 2024-01-19 14:06:14,010] Trial 143 finished with value: 0.8142292490118577 and parameters: {'learning_rate': 0.01761667449843244, 'depth': 11, 'l2_leaf_reg': 9.711539544052886, 'boosting_type': 'Plain', 'iterations': 344}. Best is trial 49 with value: 0.8384387351778656.\n",
      "[I 2024-01-19 14:06:15,286] Trial 144 finished with value: 0.8013833992094862 and parameters: {'learning_rate': 0.011742701044271596, 'depth': 11, 'l2_leaf_reg': 9.46836184546949, 'boosting_type': 'Plain', 'iterations': 455}. Best is trial 49 with value: 0.8384387351778656.\n",
      "[I 2024-01-19 14:06:16,076] Trial 145 finished with value: 0.7934782608695652 and parameters: {'learning_rate': 0.016921393028784072, 'depth': 11, 'l2_leaf_reg': 9.758105560522942, 'boosting_type': 'Plain', 'iterations': 300}. Best is trial 49 with value: 0.8384387351778656.\n",
      "[I 2024-01-19 14:06:17,337] Trial 146 finished with value: 0.8196640316205533 and parameters: {'learning_rate': 0.014682813474926577, 'depth': 10, 'l2_leaf_reg': 9.573649921331446, 'boosting_type': 'Plain', 'iterations': 569}. Best is trial 49 with value: 0.8384387351778656.\n",
      "[I 2024-01-19 14:06:17,631] Trial 147 finished with value: 0.8231225296442688 and parameters: {'learning_rate': 0.02631151198471772, 'depth': 11, 'l2_leaf_reg': 9.83064904688234, 'boosting_type': 'Plain', 'iterations': 120}. Best is trial 49 with value: 0.8384387351778656.\n",
      "[I 2024-01-19 14:06:20,491] Trial 148 finished with value: 0.8003952569169961 and parameters: {'learning_rate': 0.02223553382983476, 'depth': 11, 'l2_leaf_reg': 9.157790074496322, 'boosting_type': 'Plain', 'iterations': 776}. Best is trial 49 with value: 0.8384387351778656.\n",
      "[I 2024-01-19 14:06:21,182] Trial 149 finished with value: 0.8003952569169961 and parameters: {'learning_rate': 0.019934284036129686, 'depth': 10, 'l2_leaf_reg': 9.997937389757558, 'boosting_type': 'Plain', 'iterations': 329}. Best is trial 49 with value: 0.8384387351778656.\n"
     ]
    },
    {
     "name": "stderr",
     "output_type": "stream",
     "text": [
      "[I 2024-01-19 14:06:23,810] Trial 150 finished with value: 0.8122529644268774 and parameters: {'learning_rate': 0.004963158011255008, 'depth': 11, 'l2_leaf_reg': 9.352088033877077, 'boosting_type': 'Plain', 'iterations': 962}. Best is trial 49 with value: 0.8384387351778656.\n",
      "[I 2024-01-19 14:06:24,481] Trial 151 finished with value: 0.8053359683794467 and parameters: {'learning_rate': 0.01926894009624646, 'depth': 11, 'l2_leaf_reg': 9.79617432610345, 'boosting_type': 'Plain', 'iterations': 244}. Best is trial 49 with value: 0.8384387351778656.\n",
      "[I 2024-01-19 14:06:24,748] Trial 152 finished with value: 0.8231225296442688 and parameters: {'learning_rate': 0.018341252253847418, 'depth': 11, 'l2_leaf_reg': 9.611136411333694, 'boosting_type': 'Plain', 'iterations': 112}. Best is trial 49 with value: 0.8384387351778656.\n",
      "[I 2024-01-19 14:06:26,515] Trial 153 finished with value: 0.7974308300395256 and parameters: {'learning_rate': 0.01951773248909756, 'depth': 11, 'l2_leaf_reg': 9.822199356308246, 'boosting_type': 'Plain', 'iterations': 551}. Best is trial 49 with value: 0.8384387351778656.\n",
      "[I 2024-01-19 14:06:37,000] Trial 154 finished with value: 0.7845849802371542 and parameters: {'learning_rate': 0.020566297769576795, 'depth': 11, 'l2_leaf_reg': 9.47070004655826, 'boosting_type': 'Plain', 'iterations': 2642}. Best is trial 49 with value: 0.8384387351778656.\n",
      "[I 2024-01-19 14:06:37,289] Trial 155 finished with value: 0.8241106719367589 and parameters: {'learning_rate': 0.019118576915270795, 'depth': 11, 'l2_leaf_reg': 8.987876611582308, 'boosting_type': 'Plain', 'iterations': 109}. Best is trial 49 with value: 0.8384387351778656.\n",
      "[I 2024-01-19 14:06:43,490] Trial 156 finished with value: 0.7816205533596838 and parameters: {'learning_rate': 0.018773082984472885, 'depth': 11, 'l2_leaf_reg': 8.720453537764385, 'boosting_type': 'Ordered', 'iterations': 430}. Best is trial 49 with value: 0.8384387351778656.\n",
      "[I 2024-01-19 14:06:45,786] Trial 157 finished with value: 0.7905138339920948 and parameters: {'learning_rate': 0.029992553034356936, 'depth': 11, 'l2_leaf_reg': 9.015604481022143, 'boosting_type': 'Plain', 'iterations': 612}. Best is trial 49 with value: 0.8384387351778656.\n",
      "[I 2024-01-19 14:06:46,347] Trial 158 finished with value: 0.8147233201581028 and parameters: {'learning_rate': 0.018007301431061447, 'depth': 10, 'l2_leaf_reg': 9.254242668622195, 'boosting_type': 'Plain', 'iterations': 324}. Best is trial 49 with value: 0.8384387351778656.\n",
      "[I 2024-01-19 14:06:46,599] Trial 159 finished with value: 0.8320158102766798 and parameters: {'learning_rate': 0.017376271549844235, 'depth': 11, 'l2_leaf_reg': 8.161456835453857, 'boosting_type': 'Plain', 'iterations': 102}. Best is trial 49 with value: 0.8384387351778656.\n",
      "[I 2024-01-19 14:06:49,079] Trial 160 finished with value: 0.7974308300395256 and parameters: {'learning_rate': 0.017410134173791295, 'depth': 11, 'l2_leaf_reg': 7.227649605225642, 'boosting_type': 'Plain', 'iterations': 752}. Best is trial 49 with value: 0.8384387351778656.\n",
      "[I 2024-01-19 14:06:49,765] Trial 161 finished with value: 0.7974308300395256 and parameters: {'learning_rate': 0.01653230175895674, 'depth': 11, 'l2_leaf_reg': 7.681960109905113, 'boosting_type': 'Plain', 'iterations': 261}. Best is trial 49 with value: 0.8384387351778656.\n",
      "[I 2024-01-19 14:06:49,840] Trial 162 finished with value: 0.625 and parameters: {'learning_rate': 0.018882270146469773, 'depth': 3, 'l2_leaf_reg': 8.853922428267639, 'boosting_type': 'Plain', 'iterations': 117}. Best is trial 49 with value: 0.8384387351778656.\n",
      "[I 2024-01-19 14:06:51,254] Trial 163 finished with value: 0.8092885375494071 and parameters: {'learning_rate': 0.017556395011495578, 'depth': 11, 'l2_leaf_reg': 9.5603646639499, 'boosting_type': 'Plain', 'iterations': 473}. Best is trial 49 with value: 0.8384387351778656.\n",
      "[I 2024-01-19 14:06:52,277] Trial 164 finished with value: 0.7845849802371542 and parameters: {'learning_rate': 0.015214952527821844, 'depth': 11, 'l2_leaf_reg': 8.132708146183301, 'boosting_type': 'Plain', 'iterations': 378}. Best is trial 49 with value: 0.8384387351778656.\n",
      "[I 2024-01-19 14:06:54,249] Trial 165 finished with value: 0.7944664031620553 and parameters: {'learning_rate': 0.016018919506115465, 'depth': 11, 'l2_leaf_reg': 8.61205443825693, 'boosting_type': 'Plain', 'iterations': 640}. Best is trial 49 with value: 0.8384387351778656.\n",
      "[I 2024-01-19 14:07:02,085] Trial 166 finished with value: 0.7816205533596838 and parameters: {'learning_rate': 0.017022661690123026, 'depth': 11, 'l2_leaf_reg': 9.05454974804667, 'boosting_type': 'Plain', 'iterations': 2252}. Best is trial 49 with value: 0.8384387351778656.\n",
      "[I 2024-01-19 14:07:02,901] Trial 167 finished with value: 0.8003952569169961 and parameters: {'learning_rate': 0.020174585735121753, 'depth': 11, 'l2_leaf_reg': 7.438753911943876, 'boosting_type': 'Plain', 'iterations': 302}. Best is trial 49 with value: 0.8384387351778656.\n",
      "[I 2024-01-19 14:07:04,302] Trial 168 finished with value: 0.8003952569169961 and parameters: {'learning_rate': 0.018260403068144002, 'depth': 11, 'l2_leaf_reg': 9.68260632169059, 'boosting_type': 'Plain', 'iterations': 468}. Best is trial 49 with value: 0.8384387351778656.\n",
      "[I 2024-01-19 14:07:04,493] Trial 169 finished with value: 0.8102766798418972 and parameters: {'learning_rate': 0.019012841311360357, 'depth': 10, 'l2_leaf_reg': 9.32337296047005, 'boosting_type': 'Plain', 'iterations': 109}. Best is trial 49 with value: 0.8384387351778656.\n",
      "[I 2024-01-19 14:07:05,488] Trial 170 finished with value: 0.775691699604743 and parameters: {'learning_rate': 0.021687543858115232, 'depth': 9, 'l2_leaf_reg': 9.859702646213371, 'boosting_type': 'Plain', 'iterations': 833}. Best is trial 49 with value: 0.8384387351778656.\n",
      "[I 2024-01-19 14:07:05,736] Trial 171 finished with value: 0.8231225296442688 and parameters: {'learning_rate': 0.019527797057666153, 'depth': 11, 'l2_leaf_reg': 9.684931153087737, 'boosting_type': 'Plain', 'iterations': 104}. Best is trial 49 with value: 0.8384387351778656.\n",
      "[I 2024-01-19 14:07:06,570] Trial 172 finished with value: 0.7934782608695652 and parameters: {'learning_rate': 0.019783211744895633, 'depth': 11, 'l2_leaf_reg': 6.994397162768308, 'boosting_type': 'Plain', 'iterations': 295}. Best is trial 49 with value: 0.8384387351778656.\n",
      "[I 2024-01-19 14:07:08,237] Trial 173 finished with value: 0.7944664031620553 and parameters: {'learning_rate': 0.020708650486807006, 'depth': 11, 'l2_leaf_reg': 9.851945775409408, 'boosting_type': 'Plain', 'iterations': 495}. Best is trial 49 with value: 0.8384387351778656.\n",
      "[I 2024-01-19 14:07:09,018] Trial 174 finished with value: 0.7964426877470356 and parameters: {'learning_rate': 0.017902716446434198, 'depth': 11, 'l2_leaf_reg': 9.500545897274637, 'boosting_type': 'Plain', 'iterations': 265}. Best is trial 49 with value: 0.8384387351778656.\n",
      "[I 2024-01-19 14:07:11,071] Trial 175 finished with value: 0.782608695652174 and parameters: {'learning_rate': 0.018348606394056603, 'depth': 11, 'l2_leaf_reg': 9.986546665103864, 'boosting_type': 'Plain', 'iterations': 606}. Best is trial 49 with value: 0.8384387351778656.\n",
      "[I 2024-01-19 14:07:11,805] Trial 176 finished with value: 0.8043478260869565 and parameters: {'learning_rate': 0.019070639074821212, 'depth': 11, 'l2_leaf_reg': 9.680074812213023, 'boosting_type': 'Plain', 'iterations': 265}. Best is trial 49 with value: 0.8384387351778656.\n",
      "[I 2024-01-19 14:07:13,199] Trial 177 finished with value: 0.7964426877470356 and parameters: {'learning_rate': 0.016465934405576886, 'depth': 11, 'l2_leaf_reg': 9.392419064512643, 'boosting_type': 'Plain', 'iterations': 451}. Best is trial 49 with value: 0.8384387351778656.\n",
      "[I 2024-01-19 14:07:42,857] Trial 178 finished with value: 0.7776679841897234 and parameters: {'learning_rate': 0.017314762602322807, 'depth': 11, 'l2_leaf_reg': 5.2879339340996925, 'boosting_type': 'Plain', 'iterations': 7693}. Best is trial 49 with value: 0.8384387351778656.\n",
      "[I 2024-01-19 14:07:43,902] Trial 179 finished with value: 0.8023715415019763 and parameters: {'learning_rate': 0.02012408138114055, 'depth': 11, 'l2_leaf_reg': 9.171611298002821, 'boosting_type': 'Ordered', 'iterations': 125}. Best is trial 49 with value: 0.8384387351778656.\n"
     ]
    },
    {
     "name": "stderr",
     "output_type": "stream",
     "text": [
      "[I 2024-01-19 14:07:45,365] Trial 180 finished with value: 0.8176877470355731 and parameters: {'learning_rate': 0.022920223952345192, 'depth': 10, 'l2_leaf_reg': 9.841691264498598, 'boosting_type': 'Plain', 'iterations': 676}. Best is trial 49 with value: 0.8384387351778656.\n",
      "[I 2024-01-19 14:07:45,632] Trial 181 finished with value: 0.8231225296442688 and parameters: {'learning_rate': 0.01955886281149552, 'depth': 11, 'l2_leaf_reg': 9.822531938148307, 'boosting_type': 'Plain', 'iterations': 113}. Best is trial 49 with value: 0.8384387351778656.\n",
      "[I 2024-01-19 14:07:45,920] Trial 182 finished with value: 0.8231225296442688 and parameters: {'learning_rate': 0.02114074674044746, 'depth': 11, 'l2_leaf_reg': 9.590682637257476, 'boosting_type': 'Plain', 'iterations': 117}. Best is trial 49 with value: 0.8384387351778656.\n",
      "[I 2024-01-19 14:07:47,057] Trial 183 finished with value: 0.7895256916996047 and parameters: {'learning_rate': 0.0186204280831737, 'depth': 11, 'l2_leaf_reg': 9.875801234390579, 'boosting_type': 'Plain', 'iterations': 350}. Best is trial 49 with value: 0.8384387351778656.\n",
      "[I 2024-01-19 14:07:47,323] Trial 184 finished with value: 0.8231225296442688 and parameters: {'learning_rate': 0.019437520833421634, 'depth': 11, 'l2_leaf_reg': 9.986389392164394, 'boosting_type': 'Plain', 'iterations': 105}. Best is trial 49 with value: 0.8384387351778656.\n",
      "[I 2024-01-19 14:07:48,463] Trial 185 finished with value: 0.8003952569169961 and parameters: {'learning_rate': 0.020281803028088678, 'depth': 11, 'l2_leaf_reg': 9.455386188921002, 'boosting_type': 'Plain', 'iterations': 395}. Best is trial 49 with value: 0.8384387351778656.\n",
      "[I 2024-01-19 14:07:50,305] Trial 186 finished with value: 0.7974308300395256 and parameters: {'learning_rate': 0.017889565540973037, 'depth': 11, 'l2_leaf_reg': 9.700581274735377, 'boosting_type': 'Plain', 'iterations': 529}. Best is trial 49 with value: 0.8384387351778656.\n",
      "[I 2024-01-19 14:07:50,555] Trial 187 finished with value: 0.8231225296442688 and parameters: {'learning_rate': 0.019632258242259344, 'depth': 11, 'l2_leaf_reg': 9.556237011291596, 'boosting_type': 'Plain', 'iterations': 107}. Best is trial 49 with value: 0.8384387351778656.\n",
      "[I 2024-01-19 14:07:51,266] Trial 188 finished with value: 0.8073122529644269 and parameters: {'learning_rate': 0.018762647614376668, 'depth': 10, 'l2_leaf_reg': 7.797533130629134, 'boosting_type': 'Plain', 'iterations': 335}. Best is trial 49 with value: 0.8384387351778656.\n",
      "[I 2024-01-19 14:07:54,087] Trial 189 finished with value: 0.7855731225296443 and parameters: {'learning_rate': 0.016942542468602002, 'depth': 11, 'l2_leaf_reg': 9.783866302727066, 'boosting_type': 'Plain', 'iterations': 779}. Best is trial 49 with value: 0.8384387351778656.\n",
      "[I 2024-01-19 14:07:55,117] Trial 190 finished with value: 0.7766798418972332 and parameters: {'learning_rate': 0.025091038045364784, 'depth': 11, 'l2_leaf_reg': 9.992541402884573, 'boosting_type': 'Plain', 'iterations': 299}. Best is trial 49 with value: 0.8384387351778656.\n",
      "[I 2024-01-19 14:07:55,412] Trial 191 finished with value: 0.8231225296442688 and parameters: {'learning_rate': 0.0161438502538821, 'depth': 11, 'l2_leaf_reg': 9.984142733768484, 'boosting_type': 'Plain', 'iterations': 102}. Best is trial 49 with value: 0.8384387351778656.\n",
      "[I 2024-01-19 14:07:55,700] Trial 192 finished with value: 0.8231225296442688 and parameters: {'learning_rate': 0.016518595719243825, 'depth': 11, 'l2_leaf_reg': 9.714719050660472, 'boosting_type': 'Plain', 'iterations': 101}. Best is trial 49 with value: 0.8384387351778656.\n",
      "[I 2024-01-19 14:07:57,209] Trial 193 finished with value: 0.7944664031620553 and parameters: {'learning_rate': 0.01563636476008751, 'depth': 11, 'l2_leaf_reg': 9.321208803383408, 'boosting_type': 'Plain', 'iterations': 446}. Best is trial 49 with value: 0.8384387351778656.\n",
      "[I 2024-01-19 14:07:57,963] Trial 194 finished with value: 0.8053359683794467 and parameters: {'learning_rate': 0.01445362688093358, 'depth': 11, 'l2_leaf_reg': 9.846969706903325, 'boosting_type': 'Plain', 'iterations': 264}. Best is trial 49 with value: 0.8384387351778656.\n",
      "[I 2024-01-19 14:07:59,775] Trial 195 finished with value: 0.7964426877470356 and parameters: {'learning_rate': 0.01784310232605063, 'depth': 11, 'l2_leaf_reg': 9.551094010359495, 'boosting_type': 'Plain', 'iterations': 513}. Best is trial 49 with value: 0.8384387351778656.\n",
      "[I 2024-01-19 14:08:00,747] Trial 196 finished with value: 0.808300395256917 and parameters: {'learning_rate': 0.016928096932191432, 'depth': 11, 'l2_leaf_reg': 9.688461764139415, 'boosting_type': 'Plain', 'iterations': 278}. Best is trial 49 with value: 0.8384387351778656.\n",
      "[I 2024-01-19 14:08:26,489] Trial 197 finished with value: 0.8092885375494071 and parameters: {'learning_rate': 0.01908749370198046, 'depth': 11, 'l2_leaf_reg': 9.170929368012992, 'boosting_type': 'Plain', 'iterations': 6529}. Best is trial 49 with value: 0.8384387351778656.\n",
      "[I 2024-01-19 14:08:28,734] Trial 198 finished with value: 0.7994071146245059 and parameters: {'learning_rate': 0.027933700363403452, 'depth': 11, 'l2_leaf_reg': 9.425694498396961, 'boosting_type': 'Plain', 'iterations': 642}. Best is trial 49 with value: 0.8384387351778656.\n",
      "[I 2024-01-19 14:08:29,276] Trial 199 finished with value: 0.8176877470355731 and parameters: {'learning_rate': 0.023786171258855775, 'depth': 10, 'l2_leaf_reg': 9.986788975629265, 'boosting_type': 'Plain', 'iterations': 286}. Best is trial 49 with value: 0.8384387351778656.\n",
      "[I 2024-01-19 14:08:29,357] Trial 200 finished with value: 0.7252964426877471 and parameters: {'learning_rate': 0.018437426720958158, 'depth': 6, 'l2_leaf_reg': 9.827757143339173, 'boosting_type': 'Plain', 'iterations': 106}. Best is trial 49 with value: 0.8384387351778656.\n",
      "[I 2024-01-19 14:08:30,600] Trial 201 finished with value: 0.8003952569169961 and parameters: {'learning_rate': 0.01967799472290262, 'depth': 11, 'l2_leaf_reg': 9.874424470981898, 'boosting_type': 'Plain', 'iterations': 409}. Best is trial 49 with value: 0.8384387351778656.\n",
      "[I 2024-01-19 14:08:31,270] Trial 202 finished with value: 0.8063241106719368 and parameters: {'learning_rate': 0.020565866958992485, 'depth': 11, 'l2_leaf_reg': 9.991427379216415, 'boosting_type': 'Plain', 'iterations': 244}. Best is trial 49 with value: 0.8384387351778656.\n",
      "[I 2024-01-19 14:08:31,541] Trial 203 finished with value: 0.8231225296442688 and parameters: {'learning_rate': 0.019856229444323508, 'depth': 11, 'l2_leaf_reg': 9.602213147645777, 'boosting_type': 'Plain', 'iterations': 113}. Best is trial 49 with value: 0.8384387351778656.\n",
      "[I 2024-01-19 14:08:32,984] Trial 204 finished with value: 0.8043478260869565 and parameters: {'learning_rate': 0.019212070007440296, 'depth': 11, 'l2_leaf_reg': 9.712827274893343, 'boosting_type': 'Plain', 'iterations': 468}. Best is trial 49 with value: 0.8384387351778656.\n",
      "[I 2024-01-19 14:08:33,228] Trial 205 finished with value: 0.8241106719367589 and parameters: {'learning_rate': 0.01751356889613772, 'depth': 11, 'l2_leaf_reg': 8.913155966977524, 'boosting_type': 'Plain', 'iterations': 101}. Best is trial 49 with value: 0.8384387351778656.\n",
      "[I 2024-01-19 14:08:35,178] Trial 206 finished with value: 0.7984189723320159 and parameters: {'learning_rate': 0.01760571364338312, 'depth': 11, 'l2_leaf_reg': 8.950464919101009, 'boosting_type': 'Plain', 'iterations': 605}. Best is trial 49 with value: 0.8384387351778656.\n",
      "[I 2024-01-19 14:09:00,541] Trial 207 finished with value: 0.7569169960474308 and parameters: {'learning_rate': 0.018266906195374025, 'depth': 11, 'l2_leaf_reg': 9.092442330642884, 'boosting_type': 'Plain', 'iterations': 6957}. Best is trial 49 with value: 0.8384387351778656.\n",
      "[I 2024-01-19 14:09:00,782] Trial 208 finished with value: 0.8241106719367589 and parameters: {'learning_rate': 0.017142093191396802, 'depth': 11, 'l2_leaf_reg': 8.509351200100202, 'boosting_type': 'Plain', 'iterations': 101}. Best is trial 49 with value: 0.8384387351778656.\n",
      "[I 2024-01-19 14:09:01,103] Trial 209 finished with value: 0.8043478260869565 and parameters: {'learning_rate': 0.01737007135529623, 'depth': 8, 'l2_leaf_reg': 8.400244234920677, 'boosting_type': 'Plain', 'iterations': 322}. Best is trial 49 with value: 0.8384387351778656.\n"
     ]
    },
    {
     "name": "stderr",
     "output_type": "stream",
     "text": [
      "[I 2024-01-19 14:09:49,035] Trial 210 finished with value: 0.8003952569169961 and parameters: {'learning_rate': 0.018727386619325024, 'depth': 11, 'l2_leaf_reg': 8.15358870692534, 'boosting_type': 'Ordered', 'iterations': 1978}. Best is trial 49 with value: 0.8384387351778656.\n",
      "[I 2024-01-19 14:09:50,123] Trial 211 finished with value: 0.8023715415019763 and parameters: {'learning_rate': 0.01662711671674265, 'depth': 11, 'l2_leaf_reg': 8.317806443340704, 'boosting_type': 'Plain', 'iterations': 348}. Best is trial 49 with value: 0.8384387351778656.\n",
      "[I 2024-01-19 14:09:50,370] Trial 212 finished with value: 0.8241106719367589 and parameters: {'learning_rate': 0.015833873310667632, 'depth': 11, 'l2_leaf_reg': 8.660966798171227, 'boosting_type': 'Plain', 'iterations': 101}. Best is trial 49 with value: 0.8384387351778656.\n",
      "[I 2024-01-19 14:09:50,672] Trial 213 finished with value: 0.8241106719367589 and parameters: {'learning_rate': 0.01593869606920251, 'depth': 11, 'l2_leaf_reg': 8.551927658330895, 'boosting_type': 'Plain', 'iterations': 101}. Best is trial 49 with value: 0.8384387351778656.\n",
      "[I 2024-01-19 14:09:50,909] Trial 214 finished with value: 0.7895256916996047 and parameters: {'learning_rate': 0.015555898890025514, 'depth': 7, 'l2_leaf_reg': 8.4721990734198, 'boosting_type': 'Plain', 'iterations': 267}. Best is trial 49 with value: 0.8384387351778656.\n",
      "[I 2024-01-19 14:09:52,606] Trial 215 finished with value: 0.8033596837944664 and parameters: {'learning_rate': 0.016011360948189546, 'depth': 11, 'l2_leaf_reg': 8.72119824690162, 'boosting_type': 'Plain', 'iterations': 508}. Best is trial 49 with value: 0.8384387351778656.\n",
      "[I 2024-01-19 14:09:53,463] Trial 216 finished with value: 0.8033596837944664 and parameters: {'learning_rate': 0.014962728470789614, 'depth': 11, 'l2_leaf_reg': 8.504120910892034, 'boosting_type': 'Plain', 'iterations': 282}. Best is trial 49 with value: 0.8384387351778656.\n",
      "[I 2024-01-19 14:09:55,095] Trial 217 finished with value: 0.7875494071146245 and parameters: {'learning_rate': 0.01718203573751345, 'depth': 11, 'l2_leaf_reg': 8.591807268515844, 'boosting_type': 'Plain', 'iterations': 508}. Best is trial 49 with value: 0.8384387351778656.\n",
      "[I 2024-01-19 14:09:55,354] Trial 218 finished with value: 0.8320158102766798 and parameters: {'learning_rate': 0.015274361901197128, 'depth': 11, 'l2_leaf_reg': 7.958441938314645, 'boosting_type': 'Plain', 'iterations': 105}. Best is trial 49 with value: 0.8384387351778656.\n",
      "[I 2024-01-19 14:10:06,132] Trial 219 finished with value: 0.7994071146245059 and parameters: {'learning_rate': 0.014252385456473468, 'depth': 11, 'l2_leaf_reg': 7.89293675449811, 'boosting_type': 'Plain', 'iterations': 2912}. Best is trial 49 with value: 0.8384387351778656.\n",
      "[I 2024-01-19 14:10:08,496] Trial 220 finished with value: 0.7905138339920948 and parameters: {'learning_rate': 0.015231663870045944, 'depth': 11, 'l2_leaf_reg': 8.217287144468365, 'boosting_type': 'Plain', 'iterations': 725}. Best is trial 49 with value: 0.8384387351778656.\n",
      "[I 2024-01-19 14:10:09,204] Trial 221 finished with value: 0.8226284584980237 and parameters: {'learning_rate': 0.016278502053045374, 'depth': 11, 'l2_leaf_reg': 8.022251092871679, 'boosting_type': 'Plain', 'iterations': 246}. Best is trial 49 with value: 0.8384387351778656.\n",
      "[I 2024-01-19 14:10:09,451] Trial 222 finished with value: 0.8241106719367589 and parameters: {'learning_rate': 0.013376870376003451, 'depth': 11, 'l2_leaf_reg': 8.821511476699511, 'boosting_type': 'Plain', 'iterations': 100}. Best is trial 49 with value: 0.8384387351778656.\n",
      "[I 2024-01-19 14:10:09,527] Trial 223 finished with value: 0.6526679841897234 and parameters: {'learning_rate': 0.014002774621934217, 'depth': 4, 'l2_leaf_reg': 8.853685098480561, 'boosting_type': 'Plain', 'iterations': 127}. Best is trial 49 with value: 0.8384387351778656.\n",
      "[I 2024-01-19 14:10:09,792] Trial 224 finished with value: 0.8241106719367589 and parameters: {'learning_rate': 0.01345967956268234, 'depth': 11, 'l2_leaf_reg': 8.658347289149408, 'boosting_type': 'Plain', 'iterations': 107}. Best is trial 49 with value: 0.8384387351778656.\n",
      "[I 2024-01-19 14:10:10,877] Trial 225 finished with value: 0.8122529644268774 and parameters: {'learning_rate': 0.01324347018252522, 'depth': 11, 'l2_leaf_reg': 8.787965733218385, 'boosting_type': 'Plain', 'iterations': 381}. Best is trial 49 with value: 0.8384387351778656.\n",
      "[I 2024-01-19 14:10:11,733] Trial 226 finished with value: 0.8191699604743083 and parameters: {'learning_rate': 0.013651392511920726, 'depth': 11, 'l2_leaf_reg': 8.61759336920975, 'boosting_type': 'Plain', 'iterations': 309}. Best is trial 49 with value: 0.8384387351778656.\n",
      "[I 2024-01-19 14:10:13,230] Trial 227 finished with value: 0.8023715415019763 and parameters: {'learning_rate': 0.013280880566794946, 'depth': 11, 'l2_leaf_reg': 8.47159526444977, 'boosting_type': 'Plain', 'iterations': 484}. Best is trial 49 with value: 0.8384387351778656.\n",
      "[I 2024-01-19 14:10:13,947] Trial 228 finished with value: 0.8152173913043479 and parameters: {'learning_rate': 0.01452771313263319, 'depth': 11, 'l2_leaf_reg': 8.911601982512376, 'boosting_type': 'Plain', 'iterations': 264}. Best is trial 49 with value: 0.8384387351778656.\n",
      "[I 2024-01-19 14:10:14,228] Trial 229 finished with value: 0.8320158102766798 and parameters: {'learning_rate': 0.017741448742928725, 'depth': 11, 'l2_leaf_reg': 8.286796784623931, 'boosting_type': 'Plain', 'iterations': 118}. Best is trial 49 with value: 0.8384387351778656.\n",
      "[I 2024-01-19 14:10:14,536] Trial 230 finished with value: 0.8241106719367589 and parameters: {'learning_rate': 0.017786445591599684, 'depth': 11, 'l2_leaf_reg': 8.339256900638937, 'boosting_type': 'Plain', 'iterations': 128}. Best is trial 49 with value: 0.8384387351778656.\n",
      "[I 2024-01-19 14:10:14,827] Trial 231 finished with value: 0.8241106719367589 and parameters: {'learning_rate': 0.01196926242208801, 'depth': 11, 'l2_leaf_reg': 8.320414885978188, 'boosting_type': 'Plain', 'iterations': 124}. Best is trial 49 with value: 0.8384387351778656.\n",
      "[I 2024-01-19 14:10:15,629] Trial 232 finished with value: 0.8122529644268774 and parameters: {'learning_rate': 0.011133931782478908, 'depth': 11, 'l2_leaf_reg': 8.176549254175711, 'boosting_type': 'Plain', 'iterations': 289}. Best is trial 49 with value: 0.8384387351778656.\n",
      "[I 2024-01-19 14:10:15,871] Trial 233 finished with value: 0.8320158102766798 and parameters: {'learning_rate': 0.012631928603132439, 'depth': 11, 'l2_leaf_reg': 8.296696955044952, 'boosting_type': 'Plain', 'iterations': 100}. Best is trial 49 with value: 0.8384387351778656.\n",
      "[I 2024-01-19 14:10:16,203] Trial 234 finished with value: 0.8320158102766798 and parameters: {'learning_rate': 0.012578963032585141, 'depth': 11, 'l2_leaf_reg': 8.301819205926503, 'boosting_type': 'Plain', 'iterations': 109}. Best is trial 49 with value: 0.8384387351778656.\n",
      "[I 2024-01-19 14:10:16,533] Trial 235 finished with value: 0.8320158102766798 and parameters: {'learning_rate': 0.012218715226999799, 'depth': 11, 'l2_leaf_reg': 8.298853618887705, 'boosting_type': 'Plain', 'iterations': 150}. Best is trial 49 with value: 0.8384387351778656.\n",
      "[I 2024-01-19 14:10:16,850] Trial 236 finished with value: 0.8320158102766798 and parameters: {'learning_rate': 0.012685100146559129, 'depth': 11, 'l2_leaf_reg': 8.29155454759723, 'boosting_type': 'Plain', 'iterations': 144}. Best is trial 49 with value: 0.8384387351778656.\n",
      "[I 2024-01-19 14:10:17,093] Trial 237 finished with value: 0.8320158102766798 and parameters: {'learning_rate': 0.012259428446492958, 'depth': 11, 'l2_leaf_reg': 8.016482827156072, 'boosting_type': 'Plain', 'iterations': 105}. Best is trial 49 with value: 0.8384387351778656.\n",
      "[I 2024-01-19 14:10:17,348] Trial 238 finished with value: 0.8320158102766798 and parameters: {'learning_rate': 0.012236287353936713, 'depth': 11, 'l2_leaf_reg': 7.914465192792104, 'boosting_type': 'Plain', 'iterations': 101}. Best is trial 49 with value: 0.8384387351778656.\n",
      "[I 2024-01-19 14:10:17,618] Trial 239 finished with value: 0.8320158102766798 and parameters: {'learning_rate': 0.012298907507042411, 'depth': 11, 'l2_leaf_reg': 7.927491411992203, 'boosting_type': 'Plain', 'iterations': 116}. Best is trial 49 with value: 0.8384387351778656.\n"
     ]
    },
    {
     "name": "stderr",
     "output_type": "stream",
     "text": [
      "[I 2024-01-19 14:10:18,844] Trial 240 finished with value: 0.8023715415019763 and parameters: {'learning_rate': 0.011748615795455709, 'depth': 11, 'l2_leaf_reg': 7.641863236382928, 'boosting_type': 'Plain', 'iterations': 445}. Best is trial 49 with value: 0.8384387351778656.\n",
      "[I 2024-01-19 14:10:19,089] Trial 241 finished with value: 0.8320158102766798 and parameters: {'learning_rate': 0.01241517298435562, 'depth': 11, 'l2_leaf_reg': 7.982529799630316, 'boosting_type': 'Plain', 'iterations': 103}. Best is trial 49 with value: 0.8384387351778656.\n",
      "[I 2024-01-19 14:10:19,354] Trial 242 finished with value: 0.8320158102766798 and parameters: {'learning_rate': 0.012428775054839719, 'depth': 11, 'l2_leaf_reg': 7.984797285478845, 'boosting_type': 'Plain', 'iterations': 107}. Best is trial 49 with value: 0.8384387351778656.\n",
      "[I 2024-01-19 14:10:19,616] Trial 243 finished with value: 0.8320158102766798 and parameters: {'learning_rate': 0.01255808580495996, 'depth': 11, 'l2_leaf_reg': 8.03498356572087, 'boosting_type': 'Plain', 'iterations': 110}. Best is trial 49 with value: 0.8384387351778656.\n",
      "[I 2024-01-19 14:10:20,558] Trial 244 finished with value: 0.8260869565217391 and parameters: {'learning_rate': 0.012514480496736573, 'depth': 11, 'l2_leaf_reg': 7.9118440825564385, 'boosting_type': 'Plain', 'iterations': 343}. Best is trial 49 with value: 0.8384387351778656.\n",
      "[I 2024-01-19 14:10:21,532] Trial 245 finished with value: 0.7944664031620553 and parameters: {'learning_rate': 0.012404204565285204, 'depth': 11, 'l2_leaf_reg': 7.921622506530813, 'boosting_type': 'Plain', 'iterations': 360}. Best is trial 49 with value: 0.8384387351778656.\n",
      "[I 2024-01-19 14:10:22,482] Trial 246 finished with value: 0.8073122529644269 and parameters: {'learning_rate': 0.012304653609276888, 'depth': 11, 'l2_leaf_reg': 8.07755515788924, 'boosting_type': 'Plain', 'iterations': 341}. Best is trial 49 with value: 0.8384387351778656.\n",
      "[I 2024-01-19 14:10:23,312] Trial 247 finished with value: 0.8112648221343873 and parameters: {'learning_rate': 0.011037875104621444, 'depth': 11, 'l2_leaf_reg': 7.831763445086284, 'boosting_type': 'Plain', 'iterations': 308}. Best is trial 49 with value: 0.8384387351778656.\n",
      "[I 2024-01-19 14:10:23,545] Trial 248 finished with value: 0.8320158102766798 and parameters: {'learning_rate': 0.010455512621467804, 'depth': 11, 'l2_leaf_reg': 7.988030267993566, 'boosting_type': 'Plain', 'iterations': 104}. Best is trial 49 with value: 0.8384387351778656.\n",
      "[I 2024-01-19 14:10:25,131] Trial 249 finished with value: 0.8013833992094862 and parameters: {'learning_rate': 0.012651703051706133, 'depth': 11, 'l2_leaf_reg': 8.011540115887055, 'boosting_type': 'Plain', 'iterations': 517}. Best is trial 49 with value: 0.8384387351778656.\n",
      "[I 2024-01-19 14:10:25,932] Trial 250 finished with value: 0.8211462450592886 and parameters: {'learning_rate': 0.009466517782770714, 'depth': 11, 'l2_leaf_reg': 7.623502302403247, 'boosting_type': 'Plain', 'iterations': 322}. Best is trial 49 with value: 0.8384387351778656.\n",
      "[I 2024-01-19 14:10:27,565] Trial 251 finished with value: 0.8211462450592886 and parameters: {'learning_rate': 0.0102251556984797, 'depth': 11, 'l2_leaf_reg': 7.815610675430797, 'boosting_type': 'Plain', 'iterations': 575}. Best is trial 49 with value: 0.8384387351778656.\n",
      "[I 2024-01-19 14:10:42,978] Trial 252 finished with value: 0.7994071146245059 and parameters: {'learning_rate': 0.01196288713974093, 'depth': 11, 'l2_leaf_reg': 8.020061970595805, 'boosting_type': 'Plain', 'iterations': 4175}. Best is trial 49 with value: 0.8384387351778656.\n",
      "[I 2024-01-19 14:10:43,781] Trial 253 finished with value: 0.8162055335968379 and parameters: {'learning_rate': 0.011316651626483864, 'depth': 11, 'l2_leaf_reg': 8.17366879695966, 'boosting_type': 'Plain', 'iterations': 306}. Best is trial 49 with value: 0.8384387351778656.\n",
      "[I 2024-01-19 14:11:00,634] Trial 254 finished with value: 0.8211462450592886 and parameters: {'learning_rate': 0.01016087368059815, 'depth': 11, 'l2_leaf_reg': 7.753412754477263, 'boosting_type': 'Plain', 'iterations': 4831}. Best is trial 49 with value: 0.8384387351778656.\n",
      "[I 2024-01-19 14:11:00,895] Trial 255 finished with value: 0.8320158102766798 and parameters: {'learning_rate': 0.012781077038735307, 'depth': 11, 'l2_leaf_reg': 7.97734280739877, 'boosting_type': 'Plain', 'iterations': 116}. Best is trial 49 with value: 0.8384387351778656.\n",
      "[I 2024-01-19 14:11:02,192] Trial 256 finished with value: 0.7905138339920948 and parameters: {'learning_rate': 0.013031235608799357, 'depth': 11, 'l2_leaf_reg': 8.062421469955684, 'boosting_type': 'Plain', 'iterations': 455}. Best is trial 49 with value: 0.8384387351778656.\n",
      "[I 2024-01-19 14:11:02,940] Trial 257 finished with value: 0.8236166007905138 and parameters: {'learning_rate': 0.01258845130942002, 'depth': 11, 'l2_leaf_reg': 7.567520988848524, 'boosting_type': 'Plain', 'iterations': 294}. Best is trial 49 with value: 0.8384387351778656.\n",
      "[I 2024-01-19 14:13:17,678] Trial 258 finished with value: 0.8023715415019763 and parameters: {'learning_rate': 0.011549668166513942, 'depth': 11, 'l2_leaf_reg': 7.428607124220832, 'boosting_type': 'Ordered', 'iterations': 5844}. Best is trial 49 with value: 0.8384387351778656.\n",
      "[I 2024-01-19 14:13:17,943] Trial 259 finished with value: 0.8320158102766798 and parameters: {'learning_rate': 0.01228846937667619, 'depth': 11, 'l2_leaf_reg': 7.95488004583676, 'boosting_type': 'Plain', 'iterations': 100}. Best is trial 49 with value: 0.8384387351778656.\n",
      "[I 2024-01-19 14:13:20,066] Trial 260 finished with value: 0.7984189723320159 and parameters: {'learning_rate': 0.012152027865524455, 'depth': 11, 'l2_leaf_reg': 7.908421630213818, 'boosting_type': 'Plain', 'iterations': 670}. Best is trial 49 with value: 0.8384387351778656.\n",
      "[I 2024-01-19 14:13:21,286] Trial 261 finished with value: 0.7974308300395256 and parameters: {'learning_rate': 0.012794661465833445, 'depth': 11, 'l2_leaf_reg': 8.231011413880717, 'boosting_type': 'Plain', 'iterations': 441}. Best is trial 49 with value: 0.8384387351778656.\n",
      "[I 2024-01-19 14:13:21,515] Trial 262 finished with value: 0.8320158102766798 and parameters: {'learning_rate': 0.010474941760848157, 'depth': 11, 'l2_leaf_reg': 7.759880369269941, 'boosting_type': 'Plain', 'iterations': 100}. Best is trial 49 with value: 0.8384387351778656.\n",
      "[I 2024-01-19 14:13:33,443] Trial 263 finished with value: 0.7490118577075099 and parameters: {'learning_rate': 0.010241974534692333, 'depth': 11, 'l2_leaf_reg': 7.752398443188529, 'boosting_type': 'Plain', 'iterations': 3305}. Best is trial 49 with value: 0.8384387351778656.\n",
      "[I 2024-01-19 14:13:34,258] Trial 264 finished with value: 0.8122529644268774 and parameters: {'learning_rate': 0.010791101923839348, 'depth': 11, 'l2_leaf_reg': 7.923338764146204, 'boosting_type': 'Plain', 'iterations': 283}. Best is trial 49 with value: 0.8384387351778656.\n",
      "[I 2024-01-19 14:13:35,738] Trial 265 finished with value: 0.8073122529644269 and parameters: {'learning_rate': 0.01286853709107131, 'depth': 11, 'l2_leaf_reg': 8.142766103846723, 'boosting_type': 'Plain', 'iterations': 482}. Best is trial 49 with value: 0.8384387351778656.\n",
      "[I 2024-01-19 14:14:07,219] Trial 266 finished with value: 0.7855731225296443 and parameters: {'learning_rate': 0.00807063150242331, 'depth': 11, 'l2_leaf_reg': 7.970793875654199, 'boosting_type': 'Plain', 'iterations': 8735}. Best is trial 49 with value: 0.8384387351778656.\n",
      "[I 2024-01-19 14:14:07,474] Trial 267 finished with value: 0.8320158102766798 and parameters: {'learning_rate': 0.01210840275523494, 'depth': 11, 'l2_leaf_reg': 8.273348465246528, 'boosting_type': 'Plain', 'iterations': 104}. Best is trial 49 with value: 0.8384387351778656.\n",
      "[I 2024-01-19 14:14:08,361] Trial 268 finished with value: 0.8092885375494071 and parameters: {'learning_rate': 0.012125188122905667, 'depth': 11, 'l2_leaf_reg': 8.261140336872428, 'boosting_type': 'Plain', 'iterations': 322}. Best is trial 49 with value: 0.8384387351778656.\n",
      "[I 2024-01-19 14:14:08,602] Trial 269 finished with value: 0.8320158102766798 and parameters: {'learning_rate': 0.011735816871272162, 'depth': 11, 'l2_leaf_reg': 7.739179640436989, 'boosting_type': 'Plain', 'iterations': 104}. Best is trial 49 with value: 0.8384387351778656.\n"
     ]
    },
    {
     "name": "stderr",
     "output_type": "stream",
     "text": [
      "[I 2024-01-19 14:14:09,446] Trial 270 finished with value: 0.8122529644268774 and parameters: {'learning_rate': 0.010812374109553517, 'depth': 11, 'l2_leaf_reg': 7.901609177091249, 'boosting_type': 'Plain', 'iterations': 318}. Best is trial 49 with value: 0.8384387351778656.\n",
      "[I 2024-01-19 14:14:11,268] Trial 271 finished with value: 0.8236166007905138 and parameters: {'learning_rate': 0.011523036530887189, 'depth': 11, 'l2_leaf_reg': 7.5098976486969, 'boosting_type': 'Plain', 'iterations': 632}. Best is trial 49 with value: 0.8384387351778656.\n",
      "[I 2024-01-19 14:14:11,971] Trial 272 finished with value: 0.8236166007905138 and parameters: {'learning_rate': 0.012346778825026139, 'depth': 11, 'l2_leaf_reg': 7.725590305144499, 'boosting_type': 'Plain', 'iterations': 272}. Best is trial 49 with value: 0.8384387351778656.\n",
      "[I 2024-01-19 14:14:21,754] Trial 273 finished with value: 0.7875494071146245 and parameters: {'learning_rate': 0.011735639103810428, 'depth': 11, 'l2_leaf_reg': 8.144098324463904, 'boosting_type': 'Plain', 'iterations': 2488}. Best is trial 49 with value: 0.8384387351778656.\n",
      "[I 2024-01-19 14:14:22,026] Trial 274 finished with value: 0.8320158102766798 and parameters: {'learning_rate': 0.012709343456930334, 'depth': 11, 'l2_leaf_reg': 7.3645522999869995, 'boosting_type': 'Plain', 'iterations': 104}. Best is trial 49 with value: 0.8384387351778656.\n",
      "[I 2024-01-19 14:14:22,297] Trial 275 finished with value: 0.8320158102766798 and parameters: {'learning_rate': 0.012743366332549591, 'depth': 11, 'l2_leaf_reg': 7.2879703158661355, 'boosting_type': 'Plain', 'iterations': 100}. Best is trial 49 with value: 0.8384387351778656.\n",
      "[I 2024-01-19 14:14:23,865] Trial 276 finished with value: 0.8310276679841897 and parameters: {'learning_rate': 0.012605763864118519, 'depth': 11, 'l2_leaf_reg': 7.297382328821193, 'boosting_type': 'Plain', 'iterations': 492}. Best is trial 49 with value: 0.8384387351778656.\n",
      "[I 2024-01-19 14:14:26,202] Trial 277 finished with value: 0.8043478260869565 and parameters: {'learning_rate': 0.012867457739522676, 'depth': 11, 'l2_leaf_reg': 7.132753445204661, 'boosting_type': 'Plain', 'iterations': 679}. Best is trial 49 with value: 0.8384387351778656.\n",
      "[I 2024-01-19 14:14:26,458] Trial 278 finished with value: 0.8320158102766798 and parameters: {'learning_rate': 0.012413630839306567, 'depth': 11, 'l2_leaf_reg': 7.334033811845628, 'boosting_type': 'Plain', 'iterations': 100}. Best is trial 49 with value: 0.8384387351778656.\n",
      "[I 2024-01-19 14:14:27,754] Trial 279 finished with value: 0.6753952569169961 and parameters: {'learning_rate': 0.01348468758454828, 'depth': 11, 'l2_leaf_reg': 6.778872079621724, 'boosting_type': 'Ordered', 'iterations': 114}. Best is trial 49 with value: 0.8384387351778656.\n",
      "[I 2024-01-19 14:14:27,969] Trial 280 finished with value: 0.8320158102766798 and parameters: {'learning_rate': 0.012051422524391947, 'depth': 11, 'l2_leaf_reg': 7.355299840744466, 'boosting_type': 'Plain', 'iterations': 100}. Best is trial 49 with value: 0.8384387351778656.\n",
      "[I 2024-01-19 14:14:28,243] Trial 281 finished with value: 0.8152173913043479 and parameters: {'learning_rate': 0.011489540525332232, 'depth': 11, 'l2_leaf_reg': 6.969036298602697, 'boosting_type': 'Plain', 'iterations': 114}. Best is trial 49 with value: 0.8384387351778656.\n",
      "[I 2024-01-19 14:14:28,853] Trial 282 finished with value: 0.8033596837944664 and parameters: {'learning_rate': 0.012016322698976152, 'depth': 9, 'l2_leaf_reg': 7.3019720796169425, 'boosting_type': 'Plain', 'iterations': 453}. Best is trial 49 with value: 0.8384387351778656.\n",
      "[I 2024-01-19 14:14:29,520] Trial 283 finished with value: 0.8092885375494071 and parameters: {'learning_rate': 0.011148162814539954, 'depth': 11, 'l2_leaf_reg': 7.56676563973655, 'boosting_type': 'Plain', 'iterations': 258}. Best is trial 49 with value: 0.8384387351778656.\n",
      "[I 2024-01-19 14:14:30,217] Trial 284 finished with value: 0.8132411067193676 and parameters: {'learning_rate': 0.010584494203722837, 'depth': 11, 'l2_leaf_reg': 8.266683236923457, 'boosting_type': 'Plain', 'iterations': 268}. Best is trial 49 with value: 0.8384387351778656.\n",
      "[I 2024-01-19 14:14:30,485] Trial 285 finished with value: 0.8320158102766798 and parameters: {'learning_rate': 0.013060449003507078, 'depth': 11, 'l2_leaf_reg': 7.395079598573806, 'boosting_type': 'Plain', 'iterations': 105}. Best is trial 49 with value: 0.8384387351778656.\n",
      "[I 2024-01-19 14:14:32,046] Trial 286 finished with value: 0.7974308300395256 and parameters: {'learning_rate': 0.012072342481347286, 'depth': 11, 'l2_leaf_reg': 7.732956811196145, 'boosting_type': 'Plain', 'iterations': 524}. Best is trial 49 with value: 0.8384387351778656.\n",
      "[I 2024-01-19 14:14:34,978] Trial 287 finished with value: 0.7924901185770751 and parameters: {'learning_rate': 0.013808848179630946, 'depth': 11, 'l2_leaf_reg': 7.56607504620599, 'boosting_type': 'Plain', 'iterations': 834}. Best is trial 49 with value: 0.8384387351778656.\n",
      "[I 2024-01-19 14:14:35,840] Trial 288 finished with value: 0.8280632411067194 and parameters: {'learning_rate': 0.009528034728255785, 'depth': 11, 'l2_leaf_reg': 8.047677447034719, 'boosting_type': 'Plain', 'iterations': 297}. Best is trial 49 with value: 0.8384387351778656.\n",
      "[I 2024-01-19 14:14:37,404] Trial 289 finished with value: 0.8102766798418972 and parameters: {'learning_rate': 0.011560960434924519, 'depth': 11, 'l2_leaf_reg': 7.167314277411674, 'boosting_type': 'Plain', 'iterations': 455}. Best is trial 49 with value: 0.8384387351778656.\n",
      "[I 2024-01-19 14:14:38,326] Trial 290 finished with value: 0.8236166007905138 and parameters: {'learning_rate': 0.013037943039055352, 'depth': 11, 'l2_leaf_reg': 7.679493242690282, 'boosting_type': 'Plain', 'iterations': 273}. Best is trial 49 with value: 0.8384387351778656.\n",
      "[I 2024-01-19 14:14:40,926] Trial 291 finished with value: 0.7994071146245059 and parameters: {'learning_rate': 0.012304318356146657, 'depth': 11, 'l2_leaf_reg': 8.35558026570089, 'boosting_type': 'Plain', 'iterations': 689}. Best is trial 49 with value: 0.8384387351778656.\n",
      "[I 2024-01-19 14:14:41,184] Trial 292 finished with value: 0.8320158102766798 and parameters: {'learning_rate': 0.01372085834022574, 'depth': 11, 'l2_leaf_reg': 8.127139473766801, 'boosting_type': 'Plain', 'iterations': 106}. Best is trial 49 with value: 0.8384387351778656.\n",
      "[I 2024-01-19 14:14:42,399] Trial 293 finished with value: 0.8236166007905138 and parameters: {'learning_rate': 0.012634005387830844, 'depth': 11, 'l2_leaf_reg': 7.735381087027422, 'boosting_type': 'Plain', 'iterations': 415}. Best is trial 49 with value: 0.8384387351778656.\n",
      "[I 2024-01-19 14:14:42,622] Trial 294 finished with value: 0.7747035573122529 and parameters: {'learning_rate': 0.01177935538232604, 'depth': 10, 'l2_leaf_reg': 7.413818413172346, 'boosting_type': 'Plain', 'iterations': 117}. Best is trial 49 with value: 0.8384387351778656.\n",
      "[I 2024-01-19 14:14:43,041] Trial 295 finished with value: 0.8013833992094862 and parameters: {'learning_rate': 0.011209925015832478, 'depth': 8, 'l2_leaf_reg': 7.902778114793029, 'boosting_type': 'Plain', 'iterations': 300}. Best is trial 49 with value: 0.8384387351778656.\n",
      "[I 2024-01-19 14:14:43,297] Trial 296 finished with value: 0.8241106719367589 and parameters: {'learning_rate': 0.013199641006442504, 'depth': 11, 'l2_leaf_reg': 8.335299114518516, 'boosting_type': 'Plain', 'iterations': 101}. Best is trial 49 with value: 0.8384387351778656.\n",
      "[I 2024-01-19 14:14:57,981] Trial 297 finished with value: 0.7509881422924901 and parameters: {'learning_rate': 0.01238823319677737, 'depth': 11, 'l2_leaf_reg': 8.030295130965241, 'boosting_type': 'Plain', 'iterations': 3682}. Best is trial 49 with value: 0.8384387351778656.\n",
      "[I 2024-01-19 14:14:59,363] Trial 298 finished with value: 0.8112648221343873 and parameters: {'learning_rate': 0.010510934673416728, 'depth': 11, 'l2_leaf_reg': 6.932155944888402, 'boosting_type': 'Plain', 'iterations': 474}. Best is trial 49 with value: 0.8384387351778656.\n",
      "[I 2024-01-19 14:14:59,642] Trial 299 finished with value: 0.8320158102766798 and parameters: {'learning_rate': 0.008788033560760451, 'depth': 11, 'l2_leaf_reg': 7.769614735721982, 'boosting_type': 'Plain', 'iterations': 102}. Best is trial 49 with value: 0.8384387351778656.\n"
     ]
    }
   ],
   "source": [
    "#Подбираем гиперпараметры с оптюной\n",
    "def objective(trial):\n",
    "    params = {\n",
    "        'learning_rate': trial.suggest_float('learning_rate', 0.001, 0.03),\n",
    "        'depth': trial.suggest_int('depth', 3, 11),\n",
    "        'l2_leaf_reg': trial.suggest_float('l2_leaf_reg', 1, 10),\n",
    "        'boosting_type': trial.suggest_categorical('boosting_type', ['Ordered', 'Plain']),\n",
    "        'iterations': trial.suggest_int('iterations', 100, 10000),\n",
    "        'model_size_reg': trial.suggest_float('l2_leaf_reg', 1, 10),\n",
    "    }\n",
    "\n",
    "    model = CatBoostClassifier(**params,\n",
    "                               eval_metric=metrics.Recall(),\n",
    "                               #loss_function=metrics.Logloss(),\n",
    "                               #custom_loss=[metrics.AUC()],\n",
    "                               thread_count = -1,\n",
    "                               random_seed=1999,\n",
    "                               min_data_in_leaf=3)\n",
    "    model.fit(numeric_train_pool, verbose=0, eval_set=numeric_val_pool)\n",
    "    y_pred = model.predict_proba(numeric_val_pool)\n",
    "    #print(y_pred)\n",
    "    return eval_metric(numeric_val_pool.get_label(), y_pred[:, 1], 'AUC')\n",
    "\n",
    "sampler = TPESampler(seed=123)\n",
    "study = optuna.create_study(direction='maximize', sampler=sampler)\n",
    "study.optimize(objective, n_trials=300)"
   ]
  },
  {
   "cell_type": "code",
   "execution_count": 29,
   "id": "a10e478d",
   "metadata": {},
   "outputs": [],
   "source": [
    "# Задаем параметры\n",
    "params = {\n",
    "    'learning_rate': 0.023910208841194023, \n",
    "    'depth': 10, \n",
    "    'l2_leaf_reg': 9.582669083002472, \n",
    "    'boosting_type': 'Plain', \n",
    "    'iterations': 4727,\n",
    "    #'loss_function': 'Logloss',\n",
    "    'eval_metric': metrics.Recall(),\n",
    "    #'loss_function': metrics.Logloss(),\n",
    "    'thread_count': -1,\n",
    "    'random_seed': 1999,\n",
    "    'min_data_in_leaf': 3\n",
    "}"
   ]
  },
  {
   "cell_type": "code",
   "execution_count": 35,
   "id": "dd6ffef6",
   "metadata": {},
   "outputs": [],
   "source": [
    "# Инициализируем модель, делаем страховку от переобучения\n",
    "model = CatBoostClassifier(\n",
    "    **params,\n",
    "    logging_level='Verbose',\n",
    "    od_type='Iter',\n",
    "    od_wait=50\n",
    ")"
   ]
  },
  {
   "cell_type": "code",
   "execution_count": 36,
   "id": "14d66785",
   "metadata": {},
   "outputs": [
    {
     "data": {
      "application/vnd.jupyter.widget-view+json": {
       "model_id": "ea7499f482af4e7ebb93218a0fdaf269",
       "version_major": 2,
       "version_minor": 0
      },
      "text/plain": [
       "MetricVisualizer(layout=Layout(align_self='stretch', height='500px'))"
      ]
     },
     "metadata": {},
     "output_type": "display_data"
    },
    {
     "name": "stdout",
     "output_type": "stream",
     "text": [
      "0:\tlearn: 0.5600000\ttest: 0.5454545\tbest: 0.5454545 (0)\ttotal: 1.35ms\tremaining: 6.4s\n",
      "1:\tlearn: 0.7200000\ttest: 0.5909091\tbest: 0.5909091 (1)\ttotal: 2.37ms\tremaining: 5.6s\n",
      "2:\tlearn: 0.7200000\ttest: 0.5454545\tbest: 0.5909091 (1)\ttotal: 3.49ms\tremaining: 5.49s\n",
      "3:\tlearn: 0.7600000\ttest: 0.5909091\tbest: 0.5909091 (1)\ttotal: 5.44ms\tremaining: 6.42s\n",
      "4:\tlearn: 0.7200000\ttest: 0.5909091\tbest: 0.5909091 (1)\ttotal: 8.43ms\tremaining: 7.96s\n",
      "5:\tlearn: 0.8000000\ttest: 0.5909091\tbest: 0.5909091 (1)\ttotal: 11.2ms\tremaining: 8.85s\n",
      "6:\tlearn: 0.8400000\ttest: 0.5454545\tbest: 0.5909091 (1)\ttotal: 12.9ms\tremaining: 8.69s\n",
      "7:\tlearn: 0.8400000\ttest: 0.5454545\tbest: 0.5909091 (1)\ttotal: 18.1ms\tremaining: 10.7s\n",
      "8:\tlearn: 0.8000000\ttest: 0.5454545\tbest: 0.5909091 (1)\ttotal: 18.9ms\tremaining: 9.93s\n",
      "9:\tlearn: 0.8400000\ttest: 0.5000000\tbest: 0.5909091 (1)\ttotal: 19.7ms\tremaining: 9.31s\n",
      "10:\tlearn: 0.8400000\ttest: 0.4545455\tbest: 0.5909091 (1)\ttotal: 20.8ms\tremaining: 8.93s\n",
      "11:\tlearn: 0.8000000\ttest: 0.4545455\tbest: 0.5909091 (1)\ttotal: 22.3ms\tremaining: 8.74s\n",
      "12:\tlearn: 0.8000000\ttest: 0.4545455\tbest: 0.5909091 (1)\ttotal: 24.2ms\tremaining: 8.78s\n",
      "13:\tlearn: 0.8000000\ttest: 0.4090909\tbest: 0.5909091 (1)\ttotal: 29.5ms\tremaining: 9.94s\n",
      "14:\tlearn: 0.8000000\ttest: 0.4090909\tbest: 0.5909091 (1)\ttotal: 30.2ms\tremaining: 9.47s\n",
      "15:\tlearn: 0.8000000\ttest: 0.4090909\tbest: 0.5909091 (1)\ttotal: 32.4ms\tremaining: 9.55s\n",
      "16:\tlearn: 0.8400000\ttest: 0.4545455\tbest: 0.5909091 (1)\ttotal: 34ms\tremaining: 9.43s\n",
      "17:\tlearn: 0.8400000\ttest: 0.4545455\tbest: 0.5909091 (1)\ttotal: 36.4ms\tremaining: 9.52s\n",
      "18:\tlearn: 0.8400000\ttest: 0.4545455\tbest: 0.5909091 (1)\ttotal: 37.4ms\tremaining: 9.28s\n",
      "19:\tlearn: 0.8400000\ttest: 0.4545455\tbest: 0.5909091 (1)\ttotal: 39.5ms\tremaining: 9.31s\n",
      "20:\tlearn: 0.8400000\ttest: 0.4545455\tbest: 0.5909091 (1)\ttotal: 41.1ms\tremaining: 9.2s\n",
      "21:\tlearn: 0.8800000\ttest: 0.4545455\tbest: 0.5909091 (1)\ttotal: 41.8ms\tremaining: 8.94s\n",
      "22:\tlearn: 0.8400000\ttest: 0.4545455\tbest: 0.5909091 (1)\ttotal: 43.9ms\tremaining: 8.98s\n",
      "23:\tlearn: 0.8400000\ttest: 0.4545455\tbest: 0.5909091 (1)\ttotal: 48.5ms\tremaining: 9.51s\n",
      "24:\tlearn: 0.8400000\ttest: 0.4545455\tbest: 0.5909091 (1)\ttotal: 50.2ms\tremaining: 9.45s\n",
      "25:\tlearn: 0.8400000\ttest: 0.4545455\tbest: 0.5909091 (1)\ttotal: 51ms\tremaining: 9.22s\n",
      "26:\tlearn: 0.8800000\ttest: 0.4545455\tbest: 0.5909091 (1)\ttotal: 52.6ms\tremaining: 9.16s\n",
      "27:\tlearn: 0.8800000\ttest: 0.4545455\tbest: 0.5909091 (1)\ttotal: 54ms\tremaining: 9.07s\n",
      "28:\tlearn: 0.8800000\ttest: 0.4545455\tbest: 0.5909091 (1)\ttotal: 55.4ms\tremaining: 8.97s\n",
      "29:\tlearn: 0.8800000\ttest: 0.4545455\tbest: 0.5909091 (1)\ttotal: 55.9ms\tremaining: 8.75s\n",
      "30:\tlearn: 0.8800000\ttest: 0.4545455\tbest: 0.5909091 (1)\ttotal: 57.1ms\tremaining: 8.64s\n",
      "31:\tlearn: 0.8800000\ttest: 0.4545455\tbest: 0.5909091 (1)\ttotal: 57.9ms\tremaining: 8.5s\n",
      "32:\tlearn: 0.8800000\ttest: 0.4545455\tbest: 0.5909091 (1)\ttotal: 60.7ms\tremaining: 8.63s\n",
      "33:\tlearn: 0.8800000\ttest: 0.5000000\tbest: 0.5909091 (1)\ttotal: 61.3ms\tremaining: 8.46s\n",
      "34:\tlearn: 0.8800000\ttest: 0.5000000\tbest: 0.5909091 (1)\ttotal: 63ms\tremaining: 8.45s\n",
      "35:\tlearn: 0.8800000\ttest: 0.4545455\tbest: 0.5909091 (1)\ttotal: 63.9ms\tremaining: 8.32s\n",
      "36:\tlearn: 0.8800000\ttest: 0.4545455\tbest: 0.5909091 (1)\ttotal: 64.7ms\tremaining: 8.2s\n",
      "37:\tlearn: 0.8800000\ttest: 0.4545455\tbest: 0.5909091 (1)\ttotal: 65.7ms\tremaining: 8.1s\n",
      "38:\tlearn: 0.8800000\ttest: 0.4545455\tbest: 0.5909091 (1)\ttotal: 68.4ms\tremaining: 8.22s\n",
      "39:\tlearn: 0.8800000\ttest: 0.5000000\tbest: 0.5909091 (1)\ttotal: 69.5ms\tremaining: 8.14s\n",
      "40:\tlearn: 0.8800000\ttest: 0.5000000\tbest: 0.5909091 (1)\ttotal: 71.6ms\tremaining: 8.18s\n",
      "41:\tlearn: 0.8800000\ttest: 0.5000000\tbest: 0.5909091 (1)\ttotal: 75ms\tremaining: 8.36s\n",
      "42:\tlearn: 0.8800000\ttest: 0.5000000\tbest: 0.5909091 (1)\ttotal: 75.6ms\tremaining: 8.24s\n",
      "43:\tlearn: 0.8800000\ttest: 0.5000000\tbest: 0.5909091 (1)\ttotal: 76.4ms\tremaining: 8.13s\n",
      "44:\tlearn: 0.8800000\ttest: 0.5000000\tbest: 0.5909091 (1)\ttotal: 77.5ms\tremaining: 8.06s\n",
      "45:\tlearn: 0.8800000\ttest: 0.4545455\tbest: 0.5909091 (1)\ttotal: 77.9ms\tremaining: 7.92s\n",
      "46:\tlearn: 0.8800000\ttest: 0.4545455\tbest: 0.5909091 (1)\ttotal: 80ms\tremaining: 7.97s\n",
      "47:\tlearn: 0.8800000\ttest: 0.4545455\tbest: 0.5909091 (1)\ttotal: 82.2ms\tremaining: 8.02s\n",
      "48:\tlearn: 0.8800000\ttest: 0.4545455\tbest: 0.5909091 (1)\ttotal: 85.1ms\tremaining: 8.12s\n",
      "49:\tlearn: 0.8800000\ttest: 0.4545455\tbest: 0.5909091 (1)\ttotal: 86.6ms\tremaining: 8.1s\n",
      "50:\tlearn: 0.8800000\ttest: 0.4545455\tbest: 0.5909091 (1)\ttotal: 98.6ms\tremaining: 9.04s\n",
      "51:\tlearn: 0.8800000\ttest: 0.4545455\tbest: 0.5909091 (1)\ttotal: 99.5ms\tremaining: 8.94s\n",
      "Stopped by overfitting detector  (50 iterations wait)\n",
      "\n",
      "bestTest = 0.5909090909\n",
      "bestIteration = 1\n",
      "\n",
      "Shrink model to first 2 iterations.\n"
     ]
    }
   ],
   "source": [
    "model.fit(\n",
    "    X_train, y_train,\n",
    "    cat_features=categorical_features_indices,\n",
    "    eval_set=(X_val, y_val),\n",
    "    logging_level='Verbose',  # you can uncomment this for text output\n",
    "    plot=True\n",
    ");"
   ]
  },
  {
   "cell_type": "code",
   "execution_count": 37,
   "id": "2342f86a",
   "metadata": {},
   "outputs": [
    {
     "data": {
      "text/plain": [
       "0.7272727272727273"
      ]
     },
     "execution_count": 37,
     "metadata": {},
     "output_type": "execute_result"
    }
   ],
   "source": [
    "from sklearn.metrics import recall_score\n",
    "recall_score(model.predict(acute_X_test_imputed), y_test_1)"
   ]
  },
  {
   "cell_type": "markdown",
   "id": "cef4f0e2",
   "metadata": {},
   "source": [
    "# Работаем с острым датасетом по лечению"
   ]
  },
  {
   "cell_type": "code",
   "execution_count": 3,
   "id": "731d1cd1",
   "metadata": {},
   "outputs": [],
   "source": [
    "# Чистим от NA-ных переменных\n",
    "# Это переменные, характерные только для датасета хроников и  ШВ\n",
    "\n",
    "acute_patients = acute_patients.drop([\"PTSTAT\", \"SEVGRADE\", \"SEVTYPE\", \"SUBJID\"], axis = 1)\n",
    "acute_patients = acute_patients.drop(list(acute_patients.filter(regex='chronic')), axis = 1)\n",
    "\n",
    "# Чистим датасет от пациентов, для которых неизвестен исход\n",
    "acute_patients = acute_patients.drop(acute_patients.query(\"ALIVE not in ['alive', 'died']\").index, axis=0)\n",
    "\n",
    "# Заменим значения целевой переменной на 0 и 1, изменим представление даты рождения\n",
    "acute_patients[\"BIRTHDTC\"] = acute_patients[\"BIRTHDTC\"].apply(lambda x: x[-4:])\n",
    "acute_patients.replace(to_replace=[\"alive\", \"died\"], value=[0,1], inplace = True)"
   ]
  },
  {
   "cell_type": "code",
   "execution_count": 4,
   "id": "75fc54e5",
   "metadata": {},
   "outputs": [
    {
     "name": "stdout",
     "output_type": "stream",
     "text": [
      "<class 'pandas.core.frame.DataFrame'>\n",
      "Index: 227 entries, 0 to 229\n",
      "Data columns (total 47 columns):\n",
      " #   Column       Non-Null Count  Dtype  \n",
      "---  ------       --------------  -----  \n",
      " 0   SITE         227 non-null    int64  \n",
      " 1   BIRTHDTC     227 non-null    object \n",
      " 2   SEX          227 non-null    object \n",
      " 3   PSOCN        227 non-null    object \n",
      " 4   PRSTDTC      227 non-null    object \n",
      " 5   PRSCHEM      227 non-null    object \n",
      " 6   TIMGDOSE     227 non-null    int64  \n",
      " 7   HATGDOSE     227 non-null    int64  \n",
      " 8   PRENDTC      142 non-null    object \n",
      " 9   TRNUM        227 non-null    int64  \n",
      " 10  TRTYPE       227 non-null    object \n",
      " 11  TRDTC        227 non-null    object \n",
      " 12  TRSOURCE     227 non-null    object \n",
      " 13  COND         227 non-null    object \n",
      " 14  CONDTYPE     227 non-null    object \n",
      " 15  ALIVE        227 non-null    int64  \n",
      " 16  LCDTC        142 non-null    object \n",
      " 17  DEATHDTC     85 non-null     object \n",
      " 18  RELAPYN      227 non-null    object \n",
      " 19  RELAPDTC     48 non-null     object \n",
      " 20  PTNA         227 non-null    object \n",
      " 21  GVHDDTC      227 non-null    object \n",
      " 22  GVHDAGE      227 non-null    int64  \n",
      " 23  GVHDMETH     227 non-null    object \n",
      " 24  AGVHDOCC     227 non-null    object \n",
      " 25  AGVHDGR      227 non-null    int64  \n",
      " 26  acute_Skin   227 non-null    int64  \n",
      " 27  acute_Liver  227 non-null    int64  \n",
      " 28  acute_UGT    227 non-null    int64  \n",
      " 29  acute_LGT    227 non-null    int64  \n",
      " 30  CGVHDOCC     227 non-null    object \n",
      " 31  TRIND        227 non-null    object \n",
      " 32  TDINTER      227 non-null    int64  \n",
      " 33  TPINTER      227 non-null    int64  \n",
      " 34  PRINTER      142 non-null    float64\n",
      " 35  GVHDTRYN     227 non-null    object \n",
      " 36  DRUGN        149 non-null    object \n",
      " 37  LOT          150 non-null    object \n",
      " 38  TRSTDTC      150 non-null    object \n",
      " 39  TRENDTC      132 non-null    object \n",
      " 40  TRONG        227 non-null    object \n",
      " 41  TRRESP       150 non-null    object \n",
      " 42  RESPEV       147 non-null    object \n",
      " 43  ATCNA        149 non-null    object \n",
      " 44  STERRES      227 non-null    object \n",
      " 45  PTINTER      88 non-null     float64\n",
      " 46  TRINTER      148 non-null    float64\n",
      "dtypes: float64(3), int64(13), object(31)\n",
      "memory usage: 85.1+ KB\n"
     ]
    }
   ],
   "source": [
    "# Посмотрим на данные\n",
    "\n",
    "acute_patients.info()"
   ]
  },
  {
   "cell_type": "markdown",
   "id": "3cd2b732",
   "metadata": {},
   "source": [
    "## Выживаемость (1 кт)"
   ]
  },
  {
   "cell_type": "code",
   "execution_count": 21,
   "id": "d4c9d792",
   "metadata": {},
   "outputs": [
    {
     "data": {
      "text/plain": [
       "['SITE',\n",
       " 'SUBJID',\n",
       " 'BIRTHDTC',\n",
       " 'SEX',\n",
       " 'PSOCN',\n",
       " 'PRSTDTC',\n",
       " 'PRSCHEM',\n",
       " 'TIMGDOSE',\n",
       " 'HATGDOSE',\n",
       " 'PRENDTC',\n",
       " 'TRNUM',\n",
       " 'TRTYPE',\n",
       " 'TRDTC',\n",
       " 'TRSOURCE',\n",
       " 'COND',\n",
       " 'CONDTYPE',\n",
       " 'LCDTC',\n",
       " 'DEATHDTC',\n",
       " 'RELAPYN',\n",
       " 'RELAPDTC',\n",
       " 'PTNA',\n",
       " 'GVHDDTC',\n",
       " 'GVHDMETH',\n",
       " 'AGVHDOCC',\n",
       " 'AGVHDGR',\n",
       " 'acute_Skin',\n",
       " 'acute_Liver',\n",
       " 'acute_UGT',\n",
       " 'acute_LGT',\n",
       " 'CGVHDOCC',\n",
       " 'TRIND',\n",
       " 'TDINTER',\n",
       " 'TPINTER',\n",
       " 'PRINTER',\n",
       " 'GVHDTRYN',\n",
       " 'DRUGN',\n",
       " 'LOT',\n",
       " 'TRSTDTC',\n",
       " 'TRENDTC',\n",
       " 'TRONG',\n",
       " 'TRRESP',\n",
       " 'RESPEV',\n",
       " 'ATCNA',\n",
       " 'STERRES',\n",
       " 'PTINTER',\n",
       " 'TRINTER']"
      ]
     },
     "execution_count": 21,
     "metadata": {},
     "output_type": "execute_result"
    }
   ],
   "source": [
    "# Разделяем прдикторы на числовые и качественные\n",
    "num_cols = [\"GVHDAGE\", \"PRINTER\", \n",
    "            \"PTINTER\", \"TRINTER\"]\n",
    "cat_cols = []\n",
    "[item for item in acute_patients.columns if item not in [\"ALIVE\", \"GVHDAGE\", \"PRINTER\", \n",
    "                                                         \"PTINTER\", \"TRINTER\", \"SUBJID\"]]"
   ]
  },
  {
   "cell_type": "code",
   "execution_count": 8,
   "id": "356cdc80",
   "metadata": {},
   "outputs": [],
   "source": [
    "# Разбиваем выборку на тестовую и тренировочную\n",
    "\n",
    "X = acute_patients.drop(\"ALIVE\", axis=1)\n",
    "y = acute_patients.ALIVE\n",
    "X_train, X_test, y_train, y_test = train_test_split(X, y, train_size=0.7, \n",
    "                                                    shuffle=True, random_state=1988,\n",
    "                                                   stratify=y)"
   ]
  },
  {
   "cell_type": "code",
   "execution_count": null,
   "id": "22777d44",
   "metadata": {},
   "outputs": [],
   "source": [
    "# Сделаем пайплайн для предобработки\n",
    "\n",
    "preprocessor = ColumnTransformer(transformers=[\n",
    "    (\"scaler\", StandardScaler(), num_cols),\n",
    "    (\"te\", TargetEncode(categories=\"auto\", target_type=\"auto\", smooth=\"auto\", cv = 5), cat_cols)\n",
    "])\n",
    "\n",
    "# Добавим отбор предикторов в боруте\n",
    "feat_selector = BorutaPy(<model>, n_estimators='auto', verbose=2, random_state=1)\n",
    "\n",
    "# Сделаем пайплайн целиком\n",
    "\n",
    "gvhd_pipeline = Pipeline(steps=[\n",
    "    (\"preprocessor\", preprocessor),\n",
    "    (\"model_name\", <model>(<parameters>, n_jobs=8))\n",
    "])"
   ]
  },
  {
   "cell_type": "code",
   "execution_count": null,
   "id": "fe53c669",
   "metadata": {},
   "outputs": [],
   "source": [
    "# Что будет потом\n",
    "#cross_val_score(clf, X, y, cv=cv) # У нас пока нет классификатора"
   ]
  },
  {
   "cell_type": "code",
   "execution_count": 2,
   "id": "ca4c8fc3",
   "metadata": {},
   "outputs": [],
   "source": [
    "from nafig.plots import na_text_barplot  # The core function\n",
    "from nafig.utils import create_example_data  # To simulate data"
   ]
  },
  {
   "cell_type": "code",
   "execution_count": 3,
   "id": "28f418a1",
   "metadata": {},
   "outputs": [],
   "source": [
    "df, feature_types = create_example_data()"
   ]
  },
  {
   "cell_type": "code",
   "execution_count": 9,
   "id": "9cc10c5c",
   "metadata": {},
   "outputs": [
    {
     "name": "stderr",
     "output_type": "stream",
     "text": [
      "/home/asklepiad/miniconda3/lib/python3.9/site-packages/nafig/plots.py:107: FutureWarning: Series.__getitem__ treating keys as positions is deprecated. In a future version, integer keys will always be treated as labels (consistent with DataFrame behavior). To access a value by position, use `ser.iloc[pos]`\n",
      "  bin_features.sort(key=lambda feature: hue[df.columns.get_loc(feature)])\n",
      "/home/asklepiad/miniconda3/lib/python3.9/site-packages/nafig/plots.py:168: FutureWarning: Series.__getitem__ treating keys as positions is deprecated. In a future version, integer keys will always be treated as labels (consistent with DataFrame behavior). To access a value by position, use `ser.iloc[pos]`\n",
      "  color = \"black\" if hue is False else cmap[hue[df.columns.get_loc(feature)]]\n"
     ]
    },
    {
     "data": {
      "text/plain": [
       "<Axes: xlabel='NA percentage'>"
      ]
     },
     "execution_count": 9,
     "metadata": {},
     "output_type": "execute_result"
    },
    {
     "data": {
      "image/png": "[encoded data removed]",
      "text/plain": [
       "<Figure size 1500x600 with 1 Axes>"
      ]
     },
     "metadata": {},
     "output_type": "display_data"
    }
   ],
   "source": [
    "na_text_barplot(disease_data, line_height=1.5)"
   ]
  }
 ],
 "metadata": {
  "kernelspec": {
   "display_name": "Python 3 (ipykernel)",
   "language": "python",
   "name": "python3"
  },
  "language_info": {
   "codemirror_mode": {
    "name": "ipython",
    "version": 3
   },
   "file_extension": ".py",
   "mimetype": "text/x-python",
   "name": "python",
   "nbconvert_exporter": "python",
   "pygments_lexer": "ipython3",
   "version": "3.9.13"
  }
 },
 "nbformat": 4,
 "nbformat_minor": 5
}
